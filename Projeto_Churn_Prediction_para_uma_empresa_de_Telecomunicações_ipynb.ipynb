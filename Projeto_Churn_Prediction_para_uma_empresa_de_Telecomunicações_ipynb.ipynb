{
  "nbformat": 4,
  "nbformat_minor": 0,
  "metadata": {
    "colab": {
      "name": "Projeto - Churn Prediction para uma empresa de Telecomunicações.ipynb.ipynb",
      "provenance": [],
      "authorship_tag": "ABX9TyPsxZBrMl5TFa5i/ZCEJT5z",
      "include_colab_link": true
    },
    "kernelspec": {
      "name": "python3",
      "display_name": "Python 3"
    },
    "language_info": {
      "name": "python"
    }
  },
  "cells": [
    {
      "cell_type": "markdown",
      "metadata": {
        "id": "view-in-github",
        "colab_type": "text"
      },
      "source": [
        "<a href=\"https://colab.research.google.com/github/marcelomonier/Churn_Prediction/blob/main/Projeto_Churn_Prediction_para_uma_empresa_de_Telecomunica%C3%A7%C3%B5es_ipynb.ipynb\" target=\"_parent\"><img src=\"https://colab.research.google.com/assets/colab-badge.svg\" alt=\"Open In Colab\"/></a>"
      ]
    },
    {
      "cell_type": "markdown",
      "source": [
        "<img alt=\"Colaboratory logo\" width=\"25%\" src=\"https://github.com/marcelomonier/airbnb_project/blob/main/logo_moment.png?raw=true\">\n",
        "\n",
        "\n",
        "\n",
        "---"
      ],
      "metadata": {
        "id": "tXEZrG0_zZuA"
      }
    },
    {
      "cell_type": "markdown",
      "source": [
        "# **Churn Prediction**\n",
        "\n",
        "*Churn Prediction* é um problema recorrente na indústria de telecomunicações. *Churn* é a taxa que define o cliente que está migrando de um provedor de serviços de telecomunicações para outro.\n",
        "\n",
        "</br>\n",
        "<center>\n",
        "<img alt=\"Colaboratory logo\" width=\"55%\" src=\"https://encrypted-tbn0.gstatic.com/images?q=tbn:ANd9GcTju9CLRk4jQf96bVC1LQ9K9R5wD8nxRFLzLQ&usqp=CAU\">\n",
        "</center>\n",
        "\n",
        "</br>\n",
        "\n",
        "Atrair novos clientes para uma empresa é um assunto mais tedioso, demorado e caro. Portanto, uma empresa deve visar o cliente existente, em vez de procurar a aquisição de novos clientes. Michael C. Mozer et al. [1] provou que a taxa na qual o cliente se desloca de uma empresa para outra determina a taxa de perda. Sendo assim, é essencial identificar o cliente que provavelmente deixará o serviço. O objetivo é construir um modelo com poder preditivo e fornecer insights sobre o comportamento da rotatividade de clientes para a empresa.\n",
        "\n"
      ],
      "metadata": {
        "id": "X4OAy8IhU_gc"
      }
    },
    {
      "cell_type": "markdown",
      "source": [
        "## Aquisição dos Dados\n",
        "\n",
        "Os dados utilizados neste projeto foram originalmente disponibilizados na [plataforma de ensino da IBM Developer](https://developer.ibm.com/technologies/data-science/patterns/predict-customer-churn-using-watson-studio-and-jupyter-notebooks/#), e tratam de um problema típico de uma companhia de telecomunicações. O *dataset* completo pode ser encontrado [neste link](https://raw.githubusercontent.com/carlosfab/dsnp2/master/datasets/WA_Fn-UseC_-Telco-Customer-Churn.csv).\n",
        "\n",
        "Apesar de não haver informações explícitas disponíves, os nomes das colunas permitem um entendimento a respeito do problema."
      ],
      "metadata": {
        "id": "qhYfi7XvctZh"
      }
    },
    {
      "cell_type": "code",
      "execution_count": 1,
      "metadata": {
        "id": "Ags2aCaEzYOx",
        "colab": {
          "base_uri": "https://localhost:8080/",
          "height": 386
        },
        "outputId": "8f417e6f-19ef-489f-b49a-20adc035095c"
      },
      "outputs": [
        {
          "output_type": "execute_result",
          "data": {
            "text/plain": [
              "   customerID  gender  SeniorCitizen Partner Dependents  tenure PhoneService  \\\n",
              "0  7590-VHVEG  Female              0     Yes         No       1           No   \n",
              "1  5575-GNVDE    Male              0      No         No      34          Yes   \n",
              "2  3668-QPYBK    Male              0      No         No       2          Yes   \n",
              "3  7795-CFOCW    Male              0      No         No      45           No   \n",
              "4  9237-HQITU  Female              0      No         No       2          Yes   \n",
              "\n",
              "      MultipleLines InternetService OnlineSecurity  ... DeviceProtection  \\\n",
              "0  No phone service             DSL             No  ...               No   \n",
              "1                No             DSL            Yes  ...              Yes   \n",
              "2                No             DSL            Yes  ...               No   \n",
              "3  No phone service             DSL            Yes  ...              Yes   \n",
              "4                No     Fiber optic             No  ...               No   \n",
              "\n",
              "  TechSupport StreamingTV StreamingMovies        Contract PaperlessBilling  \\\n",
              "0          No          No              No  Month-to-month              Yes   \n",
              "1          No          No              No        One year               No   \n",
              "2          No          No              No  Month-to-month              Yes   \n",
              "3         Yes          No              No        One year               No   \n",
              "4          No          No              No  Month-to-month              Yes   \n",
              "\n",
              "               PaymentMethod MonthlyCharges  TotalCharges Churn  \n",
              "0           Electronic check          29.85         29.85    No  \n",
              "1               Mailed check          56.95        1889.5    No  \n",
              "2               Mailed check          53.85        108.15   Yes  \n",
              "3  Bank transfer (automatic)          42.30       1840.75    No  \n",
              "4           Electronic check          70.70        151.65   Yes  \n",
              "\n",
              "[5 rows x 21 columns]"
            ],
            "text/html": [
              "\n",
              "  <div id=\"df-4b397726-23fc-42a1-a623-47e850ba618b\">\n",
              "    <div class=\"colab-df-container\">\n",
              "      <div>\n",
              "<style scoped>\n",
              "    .dataframe tbody tr th:only-of-type {\n",
              "        vertical-align: middle;\n",
              "    }\n",
              "\n",
              "    .dataframe tbody tr th {\n",
              "        vertical-align: top;\n",
              "    }\n",
              "\n",
              "    .dataframe thead th {\n",
              "        text-align: right;\n",
              "    }\n",
              "</style>\n",
              "<table border=\"1\" class=\"dataframe\">\n",
              "  <thead>\n",
              "    <tr style=\"text-align: right;\">\n",
              "      <th></th>\n",
              "      <th>customerID</th>\n",
              "      <th>gender</th>\n",
              "      <th>SeniorCitizen</th>\n",
              "      <th>Partner</th>\n",
              "      <th>Dependents</th>\n",
              "      <th>tenure</th>\n",
              "      <th>PhoneService</th>\n",
              "      <th>MultipleLines</th>\n",
              "      <th>InternetService</th>\n",
              "      <th>OnlineSecurity</th>\n",
              "      <th>...</th>\n",
              "      <th>DeviceProtection</th>\n",
              "      <th>TechSupport</th>\n",
              "      <th>StreamingTV</th>\n",
              "      <th>StreamingMovies</th>\n",
              "      <th>Contract</th>\n",
              "      <th>PaperlessBilling</th>\n",
              "      <th>PaymentMethod</th>\n",
              "      <th>MonthlyCharges</th>\n",
              "      <th>TotalCharges</th>\n",
              "      <th>Churn</th>\n",
              "    </tr>\n",
              "  </thead>\n",
              "  <tbody>\n",
              "    <tr>\n",
              "      <th>0</th>\n",
              "      <td>7590-VHVEG</td>\n",
              "      <td>Female</td>\n",
              "      <td>0</td>\n",
              "      <td>Yes</td>\n",
              "      <td>No</td>\n",
              "      <td>1</td>\n",
              "      <td>No</td>\n",
              "      <td>No phone service</td>\n",
              "      <td>DSL</td>\n",
              "      <td>No</td>\n",
              "      <td>...</td>\n",
              "      <td>No</td>\n",
              "      <td>No</td>\n",
              "      <td>No</td>\n",
              "      <td>No</td>\n",
              "      <td>Month-to-month</td>\n",
              "      <td>Yes</td>\n",
              "      <td>Electronic check</td>\n",
              "      <td>29.85</td>\n",
              "      <td>29.85</td>\n",
              "      <td>No</td>\n",
              "    </tr>\n",
              "    <tr>\n",
              "      <th>1</th>\n",
              "      <td>5575-GNVDE</td>\n",
              "      <td>Male</td>\n",
              "      <td>0</td>\n",
              "      <td>No</td>\n",
              "      <td>No</td>\n",
              "      <td>34</td>\n",
              "      <td>Yes</td>\n",
              "      <td>No</td>\n",
              "      <td>DSL</td>\n",
              "      <td>Yes</td>\n",
              "      <td>...</td>\n",
              "      <td>Yes</td>\n",
              "      <td>No</td>\n",
              "      <td>No</td>\n",
              "      <td>No</td>\n",
              "      <td>One year</td>\n",
              "      <td>No</td>\n",
              "      <td>Mailed check</td>\n",
              "      <td>56.95</td>\n",
              "      <td>1889.5</td>\n",
              "      <td>No</td>\n",
              "    </tr>\n",
              "    <tr>\n",
              "      <th>2</th>\n",
              "      <td>3668-QPYBK</td>\n",
              "      <td>Male</td>\n",
              "      <td>0</td>\n",
              "      <td>No</td>\n",
              "      <td>No</td>\n",
              "      <td>2</td>\n",
              "      <td>Yes</td>\n",
              "      <td>No</td>\n",
              "      <td>DSL</td>\n",
              "      <td>Yes</td>\n",
              "      <td>...</td>\n",
              "      <td>No</td>\n",
              "      <td>No</td>\n",
              "      <td>No</td>\n",
              "      <td>No</td>\n",
              "      <td>Month-to-month</td>\n",
              "      <td>Yes</td>\n",
              "      <td>Mailed check</td>\n",
              "      <td>53.85</td>\n",
              "      <td>108.15</td>\n",
              "      <td>Yes</td>\n",
              "    </tr>\n",
              "    <tr>\n",
              "      <th>3</th>\n",
              "      <td>7795-CFOCW</td>\n",
              "      <td>Male</td>\n",
              "      <td>0</td>\n",
              "      <td>No</td>\n",
              "      <td>No</td>\n",
              "      <td>45</td>\n",
              "      <td>No</td>\n",
              "      <td>No phone service</td>\n",
              "      <td>DSL</td>\n",
              "      <td>Yes</td>\n",
              "      <td>...</td>\n",
              "      <td>Yes</td>\n",
              "      <td>Yes</td>\n",
              "      <td>No</td>\n",
              "      <td>No</td>\n",
              "      <td>One year</td>\n",
              "      <td>No</td>\n",
              "      <td>Bank transfer (automatic)</td>\n",
              "      <td>42.30</td>\n",
              "      <td>1840.75</td>\n",
              "      <td>No</td>\n",
              "    </tr>\n",
              "    <tr>\n",
              "      <th>4</th>\n",
              "      <td>9237-HQITU</td>\n",
              "      <td>Female</td>\n",
              "      <td>0</td>\n",
              "      <td>No</td>\n",
              "      <td>No</td>\n",
              "      <td>2</td>\n",
              "      <td>Yes</td>\n",
              "      <td>No</td>\n",
              "      <td>Fiber optic</td>\n",
              "      <td>No</td>\n",
              "      <td>...</td>\n",
              "      <td>No</td>\n",
              "      <td>No</td>\n",
              "      <td>No</td>\n",
              "      <td>No</td>\n",
              "      <td>Month-to-month</td>\n",
              "      <td>Yes</td>\n",
              "      <td>Electronic check</td>\n",
              "      <td>70.70</td>\n",
              "      <td>151.65</td>\n",
              "      <td>Yes</td>\n",
              "    </tr>\n",
              "  </tbody>\n",
              "</table>\n",
              "<p>5 rows × 21 columns</p>\n",
              "</div>\n",
              "      <button class=\"colab-df-convert\" onclick=\"convertToInteractive('df-4b397726-23fc-42a1-a623-47e850ba618b')\"\n",
              "              title=\"Convert this dataframe to an interactive table.\"\n",
              "              style=\"display:none;\">\n",
              "        \n",
              "  <svg xmlns=\"http://www.w3.org/2000/svg\" height=\"24px\"viewBox=\"0 0 24 24\"\n",
              "       width=\"24px\">\n",
              "    <path d=\"M0 0h24v24H0V0z\" fill=\"none\"/>\n",
              "    <path d=\"M18.56 5.44l.94 2.06.94-2.06 2.06-.94-2.06-.94-.94-2.06-.94 2.06-2.06.94zm-11 1L8.5 8.5l.94-2.06 2.06-.94-2.06-.94L8.5 2.5l-.94 2.06-2.06.94zm10 10l.94 2.06.94-2.06 2.06-.94-2.06-.94-.94-2.06-.94 2.06-2.06.94z\"/><path d=\"M17.41 7.96l-1.37-1.37c-.4-.4-.92-.59-1.43-.59-.52 0-1.04.2-1.43.59L10.3 9.45l-7.72 7.72c-.78.78-.78 2.05 0 2.83L4 21.41c.39.39.9.59 1.41.59.51 0 1.02-.2 1.41-.59l7.78-7.78 2.81-2.81c.8-.78.8-2.07 0-2.86zM5.41 20L4 18.59l7.72-7.72 1.47 1.35L5.41 20z\"/>\n",
              "  </svg>\n",
              "      </button>\n",
              "      \n",
              "  <style>\n",
              "    .colab-df-container {\n",
              "      display:flex;\n",
              "      flex-wrap:wrap;\n",
              "      gap: 12px;\n",
              "    }\n",
              "\n",
              "    .colab-df-convert {\n",
              "      background-color: #E8F0FE;\n",
              "      border: none;\n",
              "      border-radius: 50%;\n",
              "      cursor: pointer;\n",
              "      display: none;\n",
              "      fill: #1967D2;\n",
              "      height: 32px;\n",
              "      padding: 0 0 0 0;\n",
              "      width: 32px;\n",
              "    }\n",
              "\n",
              "    .colab-df-convert:hover {\n",
              "      background-color: #E2EBFA;\n",
              "      box-shadow: 0px 1px 2px rgba(60, 64, 67, 0.3), 0px 1px 3px 1px rgba(60, 64, 67, 0.15);\n",
              "      fill: #174EA6;\n",
              "    }\n",
              "\n",
              "    [theme=dark] .colab-df-convert {\n",
              "      background-color: #3B4455;\n",
              "      fill: #D2E3FC;\n",
              "    }\n",
              "\n",
              "    [theme=dark] .colab-df-convert:hover {\n",
              "      background-color: #434B5C;\n",
              "      box-shadow: 0px 1px 3px 1px rgba(0, 0, 0, 0.15);\n",
              "      filter: drop-shadow(0px 1px 2px rgba(0, 0, 0, 0.3));\n",
              "      fill: #FFFFFF;\n",
              "    }\n",
              "  </style>\n",
              "\n",
              "      <script>\n",
              "        const buttonEl =\n",
              "          document.querySelector('#df-4b397726-23fc-42a1-a623-47e850ba618b button.colab-df-convert');\n",
              "        buttonEl.style.display =\n",
              "          google.colab.kernel.accessAllowed ? 'block' : 'none';\n",
              "\n",
              "        async function convertToInteractive(key) {\n",
              "          const element = document.querySelector('#df-4b397726-23fc-42a1-a623-47e850ba618b');\n",
              "          const dataTable =\n",
              "            await google.colab.kernel.invokeFunction('convertToInteractive',\n",
              "                                                     [key], {});\n",
              "          if (!dataTable) return;\n",
              "\n",
              "          const docLinkHtml = 'Like what you see? Visit the ' +\n",
              "            '<a target=\"_blank\" href=https://colab.research.google.com/notebooks/data_table.ipynb>data table notebook</a>'\n",
              "            + ' to learn more about interactive tables.';\n",
              "          element.innerHTML = '';\n",
              "          dataTable['output_type'] = 'display_data';\n",
              "          await google.colab.output.renderOutput(dataTable, element);\n",
              "          const docLink = document.createElement('div');\n",
              "          docLink.innerHTML = docLinkHtml;\n",
              "          element.appendChild(docLink);\n",
              "        }\n",
              "      </script>\n",
              "    </div>\n",
              "  </div>\n",
              "  "
            ]
          },
          "metadata": {},
          "execution_count": 1
        }
      ],
      "source": [
        "# Importar os pacotes necessários\n",
        "import pandas as pd\n",
        "import numpy as np\n",
        "import matplotlib.pyplot as plt\n",
        "\n",
        "# Importar os dados\n",
        "data = \"https://raw.githubusercontent.com/carlosfab/dsnp2/master/datasets/WA_Fn-UseC_-Telco-Customer-Churn.csv\"\n",
        "df = pd.read_csv(data)\n",
        "\n",
        "# Mostrar as 5 primeiras entradas\n",
        "df.head()"
      ]
    },
    {
      "cell_type": "code",
      "source": [
        "## Verifica os valores únicos de cada coluna\n",
        "for column in df.columns:\n",
        "    print('Column: {} - Unique Values: {}'.format(column, df[column].unique()))"
      ],
      "metadata": {
        "colab": {
          "base_uri": "https://localhost:8080/"
        },
        "id": "lHbkLyDy9VKJ",
        "outputId": "27ab842a-94b0-41c8-9595-4d83867c1229"
      },
      "execution_count": 2,
      "outputs": [
        {
          "output_type": "stream",
          "name": "stdout",
          "text": [
            "Column: customerID - Unique Values: ['7590-VHVEG' '5575-GNVDE' '3668-QPYBK' ... '4801-JZAZL' '8361-LTMKD'\n",
            " '3186-AJIEK']\n",
            "Column: gender - Unique Values: ['Female' 'Male']\n",
            "Column: SeniorCitizen - Unique Values: [0 1]\n",
            "Column: Partner - Unique Values: ['Yes' 'No']\n",
            "Column: Dependents - Unique Values: ['No' 'Yes']\n",
            "Column: tenure - Unique Values: [ 1 34  2 45  8 22 10 28 62 13 16 58 49 25 69 52 71 21 12 30 47 72 17 27\n",
            "  5 46 11 70 63 43 15 60 18 66  9  3 31 50 64 56  7 42 35 48 29 65 38 68\n",
            " 32 55 37 36 41  6  4 33 67 23 57 61 14 20 53 40 59 24 44 19 54 51 26  0\n",
            " 39]\n",
            "Column: PhoneService - Unique Values: ['No' 'Yes']\n",
            "Column: MultipleLines - Unique Values: ['No phone service' 'No' 'Yes']\n",
            "Column: InternetService - Unique Values: ['DSL' 'Fiber optic' 'No']\n",
            "Column: OnlineSecurity - Unique Values: ['No' 'Yes' 'No internet service']\n",
            "Column: OnlineBackup - Unique Values: ['Yes' 'No' 'No internet service']\n",
            "Column: DeviceProtection - Unique Values: ['No' 'Yes' 'No internet service']\n",
            "Column: TechSupport - Unique Values: ['No' 'Yes' 'No internet service']\n",
            "Column: StreamingTV - Unique Values: ['No' 'Yes' 'No internet service']\n",
            "Column: StreamingMovies - Unique Values: ['No' 'Yes' 'No internet service']\n",
            "Column: Contract - Unique Values: ['Month-to-month' 'One year' 'Two year']\n",
            "Column: PaperlessBilling - Unique Values: ['Yes' 'No']\n",
            "Column: PaymentMethod - Unique Values: ['Electronic check' 'Mailed check' 'Bank transfer (automatic)'\n",
            " 'Credit card (automatic)']\n",
            "Column: MonthlyCharges - Unique Values: [29.85 56.95 53.85 ... 63.1  44.2  78.7 ]\n",
            "Column: TotalCharges - Unique Values: ['29.85' '1889.5' '108.15' ... '346.45' '306.6' '6844.5']\n",
            "Column: Churn - Unique Values: ['No' 'Yes']\n"
          ]
        }
      ]
    },
    {
      "cell_type": "markdown",
      "source": [
        "Como mostrado acima, o conjunto de dados contém 21 variáveis independentes, que será classificado no dicionário de dados e dividos em 3 grupos:"
      ],
      "metadata": {
        "id": "Zz5iH0ui9-eL"
      }
    },
    {
      "cell_type": "markdown",
      "source": [
        "## Dicionário do *dataset*\n",
        "\n",
        "\n",
        "`customerID`  - ID do usuário.\n",
        "\n",
        "</br>\n",
        "\n",
        "\n",
        "**Informação demográfica**\n",
        "\n",
        "`gender`  - Se o cliente é uma mulher ou um homem (Feminino, Masculino).\n",
        "\n",
        "`SeniorCitizen`  - Se o cliente é idoso ou não ( 0, 1).\n",
        "\n",
        "`Partner`  - Se o cliente tem parceiro ou não (Sim, Não).\n",
        "\n",
        "`Dependents`  - Se o cliente tem dependentes ou não (Sim, Não).\n",
        "\n",
        "</br>\n",
        "\n",
        "\n",
        "**Informações da conta do cliente**\n",
        "\n",
        "\n",
        "`tenure` - Número de meses que o cliente permaneceu na empresa (vários valores numéricos diferentes).\n",
        "\n",
        "`Contract` - Indica o tipo de contrato atual do cliente (Mês a mês, Um ano, Dois anos).\n",
        "\n",
        "`PaperlessBilling` - Se o cliente tem faturamento sem papel ou não (Sim, Não).\n",
        "\n",
        "`PaymentMethod` - Método de pagamento do cliente (cheque eletrônico, cheque postal, transferência bancária (automática), cartão de crédito (automático)).\n",
        "\n",
        "`MontlyCharges` - O valor cobrado do cliente mensalmente (vários valores numéricos diferentes).\n",
        "\n",
        "`TotalCharges` - O valor total cobrado do cliente (vários valores numéricos diferentes).\n",
        "\n",
        "</br>\n",
        "\n",
        "\n",
        "**Informações de Serviços**\n",
        "\n",
        "`PhoneService`  - Se o cliente tem ou não serviço telefônico (Sim, Não).\n",
        "\n",
        "`MultipleLines`  - Se o cliente tem várias linhas ou não (Sem serviço telefônico, Não, Sim).\n",
        "\n",
        "`InternetService`  - Se o cliente é assinante do serviço de Internet com a empresa (DSL, Fibra óptica, Não)\n",
        "\n",
        "`OnlineSecurity`  - Se o cliente tem segurança online ou não (Sem serviço de internet, Não, Sim).\n",
        "\n",
        "`OnlineBackup`  - Se o cliente tem backup online ou não (Sem serviço de internet, Não, Sim).\n",
        "\n",
        "`DeviceProtection`  - Se o cliente tem proteção de dispositivo ou não (Sem serviço de internet, Não, Sim).\n",
        "\n",
        "`TechSupport`  - Se o cliente tem suporte técnico ou não (Sem serviço de internet, Não, Sim).\n",
        "\n",
        "`StreamingTV`  - Se o cliente tem streaming de TV ou não (Sem serviço de internet, Não, Sim).\n",
        "\n",
        "`StreamingMovies`  - Se o cliente tem streaming de filmes ou não (Sem serviço de internet, Não, Sim).\n",
        "\n",
        "`Churn`  - Indica se o cliente saiu no último mês"
      ],
      "metadata": {
        "id": "ETrj0f1rZmbu"
      }
    },
    {
      "cell_type": "code",
      "source": [
        "df.info()"
      ],
      "metadata": {
        "colab": {
          "base_uri": "https://localhost:8080/"
        },
        "id": "R9nVaEpRALh0",
        "outputId": "a5084799-131a-4140-e48e-7c2e849348e9"
      },
      "execution_count": 3,
      "outputs": [
        {
          "output_type": "stream",
          "name": "stdout",
          "text": [
            "<class 'pandas.core.frame.DataFrame'>\n",
            "RangeIndex: 7043 entries, 0 to 7042\n",
            "Data columns (total 21 columns):\n",
            " #   Column            Non-Null Count  Dtype  \n",
            "---  ------            --------------  -----  \n",
            " 0   customerID        7043 non-null   object \n",
            " 1   gender            7043 non-null   object \n",
            " 2   SeniorCitizen     7043 non-null   int64  \n",
            " 3   Partner           7043 non-null   object \n",
            " 4   Dependents        7043 non-null   object \n",
            " 5   tenure            7043 non-null   int64  \n",
            " 6   PhoneService      7043 non-null   object \n",
            " 7   MultipleLines     7043 non-null   object \n",
            " 8   InternetService   7043 non-null   object \n",
            " 9   OnlineSecurity    7043 non-null   object \n",
            " 10  OnlineBackup      7043 non-null   object \n",
            " 11  DeviceProtection  7043 non-null   object \n",
            " 12  TechSupport       7043 non-null   object \n",
            " 13  StreamingTV       7043 non-null   object \n",
            " 14  StreamingMovies   7043 non-null   object \n",
            " 15  Contract          7043 non-null   object \n",
            " 16  PaperlessBilling  7043 non-null   object \n",
            " 17  PaymentMethod     7043 non-null   object \n",
            " 18  MonthlyCharges    7043 non-null   float64\n",
            " 19  TotalCharges      7043 non-null   object \n",
            " 20  Churn             7043 non-null   object \n",
            "dtypes: float64(1), int64(2), object(18)\n",
            "memory usage: 1.1+ MB\n"
          ]
        }
      ]
    },
    {
      "cell_type": "markdown",
      "source": [
        "Acima podemos perceber que o *dataset* em comento, possui 7043 linhas e 21 colunas. Teoricamente, não há valores nulos no conjunto de dados. Entretanto, obesrevamos que a coluna `TotalCharges` foi detectada como objeto, ou seja, a análise está errada. A coluna em questão respresenta o valor total cobrado do cliente e, sendo assim, é uma variável numérica. \n",
        "\n",
        "A fim de analisar de forma mais aprofundada, é necessário transformar essa coluna em um tipo de dado numérico. Por padrão, essa função gera uma exceção quando vê dados não numéricos. No entanto, podemos utilizar o argumento `errors='coerce'` para pular esses casos e substituí-los por um **NaN**."
      ],
      "metadata": {
        "id": "o25bMEY8e2k7"
      }
    },
    {
      "cell_type": "code",
      "source": [
        "# Transformar a coluna TotalCharges em um tipo de dado numérico\n",
        "df['TotalCharges'] = pd.to_numeric(df['TotalCharges'], errors='coerce')\n",
        "df[df['TotalCharges'].isnull()]"
      ],
      "metadata": {
        "colab": {
          "base_uri": "https://localhost:8080/",
          "height": 644
        },
        "id": "Tl6zak8vgqeF",
        "outputId": "c89d2e47-65fb-40d8-f45a-7e3d6c59446d"
      },
      "execution_count": 4,
      "outputs": [
        {
          "output_type": "execute_result",
          "data": {
            "text/plain": [
              "      customerID  gender  SeniorCitizen Partner Dependents  tenure  \\\n",
              "488   4472-LVYGI  Female              0     Yes        Yes       0   \n",
              "753   3115-CZMZD    Male              0      No        Yes       0   \n",
              "936   5709-LVOEQ  Female              0     Yes        Yes       0   \n",
              "1082  4367-NUYAO    Male              0     Yes        Yes       0   \n",
              "1340  1371-DWPAZ  Female              0     Yes        Yes       0   \n",
              "3331  7644-OMVMY    Male              0     Yes        Yes       0   \n",
              "3826  3213-VVOLG    Male              0     Yes        Yes       0   \n",
              "4380  2520-SGTTA  Female              0     Yes        Yes       0   \n",
              "5218  2923-ARZLG    Male              0     Yes        Yes       0   \n",
              "6670  4075-WKNIU  Female              0     Yes        Yes       0   \n",
              "6754  2775-SEFEE    Male              0      No        Yes       0   \n",
              "\n",
              "     PhoneService     MultipleLines InternetService       OnlineSecurity  ...  \\\n",
              "488            No  No phone service             DSL                  Yes  ...   \n",
              "753           Yes                No              No  No internet service  ...   \n",
              "936           Yes                No             DSL                  Yes  ...   \n",
              "1082          Yes               Yes              No  No internet service  ...   \n",
              "1340           No  No phone service             DSL                  Yes  ...   \n",
              "3331          Yes                No              No  No internet service  ...   \n",
              "3826          Yes               Yes              No  No internet service  ...   \n",
              "4380          Yes                No              No  No internet service  ...   \n",
              "5218          Yes                No              No  No internet service  ...   \n",
              "6670          Yes               Yes             DSL                   No  ...   \n",
              "6754          Yes               Yes             DSL                  Yes  ...   \n",
              "\n",
              "         DeviceProtection          TechSupport          StreamingTV  \\\n",
              "488                   Yes                  Yes                  Yes   \n",
              "753   No internet service  No internet service  No internet service   \n",
              "936                   Yes                   No                  Yes   \n",
              "1082  No internet service  No internet service  No internet service   \n",
              "1340                  Yes                  Yes                  Yes   \n",
              "3331  No internet service  No internet service  No internet service   \n",
              "3826  No internet service  No internet service  No internet service   \n",
              "4380  No internet service  No internet service  No internet service   \n",
              "5218  No internet service  No internet service  No internet service   \n",
              "6670                  Yes                  Yes                  Yes   \n",
              "6754                   No                  Yes                   No   \n",
              "\n",
              "          StreamingMovies  Contract PaperlessBilling  \\\n",
              "488                    No  Two year              Yes   \n",
              "753   No internet service  Two year               No   \n",
              "936                   Yes  Two year               No   \n",
              "1082  No internet service  Two year               No   \n",
              "1340                   No  Two year               No   \n",
              "3331  No internet service  Two year               No   \n",
              "3826  No internet service  Two year               No   \n",
              "4380  No internet service  Two year               No   \n",
              "5218  No internet service  One year              Yes   \n",
              "6670                   No  Two year               No   \n",
              "6754                   No  Two year              Yes   \n",
              "\n",
              "                  PaymentMethod MonthlyCharges  TotalCharges  Churn  \n",
              "488   Bank transfer (automatic)          52.55           NaN     No  \n",
              "753                Mailed check          20.25           NaN     No  \n",
              "936                Mailed check          80.85           NaN     No  \n",
              "1082               Mailed check          25.75           NaN     No  \n",
              "1340    Credit card (automatic)          56.05           NaN     No  \n",
              "3331               Mailed check          19.85           NaN     No  \n",
              "3826               Mailed check          25.35           NaN     No  \n",
              "4380               Mailed check          20.00           NaN     No  \n",
              "5218               Mailed check          19.70           NaN     No  \n",
              "6670               Mailed check          73.35           NaN     No  \n",
              "6754  Bank transfer (automatic)          61.90           NaN     No  \n",
              "\n",
              "[11 rows x 21 columns]"
            ],
            "text/html": [
              "\n",
              "  <div id=\"df-ec7ad21c-15cd-4c22-8327-fac2f2a46aa8\">\n",
              "    <div class=\"colab-df-container\">\n",
              "      <div>\n",
              "<style scoped>\n",
              "    .dataframe tbody tr th:only-of-type {\n",
              "        vertical-align: middle;\n",
              "    }\n",
              "\n",
              "    .dataframe tbody tr th {\n",
              "        vertical-align: top;\n",
              "    }\n",
              "\n",
              "    .dataframe thead th {\n",
              "        text-align: right;\n",
              "    }\n",
              "</style>\n",
              "<table border=\"1\" class=\"dataframe\">\n",
              "  <thead>\n",
              "    <tr style=\"text-align: right;\">\n",
              "      <th></th>\n",
              "      <th>customerID</th>\n",
              "      <th>gender</th>\n",
              "      <th>SeniorCitizen</th>\n",
              "      <th>Partner</th>\n",
              "      <th>Dependents</th>\n",
              "      <th>tenure</th>\n",
              "      <th>PhoneService</th>\n",
              "      <th>MultipleLines</th>\n",
              "      <th>InternetService</th>\n",
              "      <th>OnlineSecurity</th>\n",
              "      <th>...</th>\n",
              "      <th>DeviceProtection</th>\n",
              "      <th>TechSupport</th>\n",
              "      <th>StreamingTV</th>\n",
              "      <th>StreamingMovies</th>\n",
              "      <th>Contract</th>\n",
              "      <th>PaperlessBilling</th>\n",
              "      <th>PaymentMethod</th>\n",
              "      <th>MonthlyCharges</th>\n",
              "      <th>TotalCharges</th>\n",
              "      <th>Churn</th>\n",
              "    </tr>\n",
              "  </thead>\n",
              "  <tbody>\n",
              "    <tr>\n",
              "      <th>488</th>\n",
              "      <td>4472-LVYGI</td>\n",
              "      <td>Female</td>\n",
              "      <td>0</td>\n",
              "      <td>Yes</td>\n",
              "      <td>Yes</td>\n",
              "      <td>0</td>\n",
              "      <td>No</td>\n",
              "      <td>No phone service</td>\n",
              "      <td>DSL</td>\n",
              "      <td>Yes</td>\n",
              "      <td>...</td>\n",
              "      <td>Yes</td>\n",
              "      <td>Yes</td>\n",
              "      <td>Yes</td>\n",
              "      <td>No</td>\n",
              "      <td>Two year</td>\n",
              "      <td>Yes</td>\n",
              "      <td>Bank transfer (automatic)</td>\n",
              "      <td>52.55</td>\n",
              "      <td>NaN</td>\n",
              "      <td>No</td>\n",
              "    </tr>\n",
              "    <tr>\n",
              "      <th>753</th>\n",
              "      <td>3115-CZMZD</td>\n",
              "      <td>Male</td>\n",
              "      <td>0</td>\n",
              "      <td>No</td>\n",
              "      <td>Yes</td>\n",
              "      <td>0</td>\n",
              "      <td>Yes</td>\n",
              "      <td>No</td>\n",
              "      <td>No</td>\n",
              "      <td>No internet service</td>\n",
              "      <td>...</td>\n",
              "      <td>No internet service</td>\n",
              "      <td>No internet service</td>\n",
              "      <td>No internet service</td>\n",
              "      <td>No internet service</td>\n",
              "      <td>Two year</td>\n",
              "      <td>No</td>\n",
              "      <td>Mailed check</td>\n",
              "      <td>20.25</td>\n",
              "      <td>NaN</td>\n",
              "      <td>No</td>\n",
              "    </tr>\n",
              "    <tr>\n",
              "      <th>936</th>\n",
              "      <td>5709-LVOEQ</td>\n",
              "      <td>Female</td>\n",
              "      <td>0</td>\n",
              "      <td>Yes</td>\n",
              "      <td>Yes</td>\n",
              "      <td>0</td>\n",
              "      <td>Yes</td>\n",
              "      <td>No</td>\n",
              "      <td>DSL</td>\n",
              "      <td>Yes</td>\n",
              "      <td>...</td>\n",
              "      <td>Yes</td>\n",
              "      <td>No</td>\n",
              "      <td>Yes</td>\n",
              "      <td>Yes</td>\n",
              "      <td>Two year</td>\n",
              "      <td>No</td>\n",
              "      <td>Mailed check</td>\n",
              "      <td>80.85</td>\n",
              "      <td>NaN</td>\n",
              "      <td>No</td>\n",
              "    </tr>\n",
              "    <tr>\n",
              "      <th>1082</th>\n",
              "      <td>4367-NUYAO</td>\n",
              "      <td>Male</td>\n",
              "      <td>0</td>\n",
              "      <td>Yes</td>\n",
              "      <td>Yes</td>\n",
              "      <td>0</td>\n",
              "      <td>Yes</td>\n",
              "      <td>Yes</td>\n",
              "      <td>No</td>\n",
              "      <td>No internet service</td>\n",
              "      <td>...</td>\n",
              "      <td>No internet service</td>\n",
              "      <td>No internet service</td>\n",
              "      <td>No internet service</td>\n",
              "      <td>No internet service</td>\n",
              "      <td>Two year</td>\n",
              "      <td>No</td>\n",
              "      <td>Mailed check</td>\n",
              "      <td>25.75</td>\n",
              "      <td>NaN</td>\n",
              "      <td>No</td>\n",
              "    </tr>\n",
              "    <tr>\n",
              "      <th>1340</th>\n",
              "      <td>1371-DWPAZ</td>\n",
              "      <td>Female</td>\n",
              "      <td>0</td>\n",
              "      <td>Yes</td>\n",
              "      <td>Yes</td>\n",
              "      <td>0</td>\n",
              "      <td>No</td>\n",
              "      <td>No phone service</td>\n",
              "      <td>DSL</td>\n",
              "      <td>Yes</td>\n",
              "      <td>...</td>\n",
              "      <td>Yes</td>\n",
              "      <td>Yes</td>\n",
              "      <td>Yes</td>\n",
              "      <td>No</td>\n",
              "      <td>Two year</td>\n",
              "      <td>No</td>\n",
              "      <td>Credit card (automatic)</td>\n",
              "      <td>56.05</td>\n",
              "      <td>NaN</td>\n",
              "      <td>No</td>\n",
              "    </tr>\n",
              "    <tr>\n",
              "      <th>3331</th>\n",
              "      <td>7644-OMVMY</td>\n",
              "      <td>Male</td>\n",
              "      <td>0</td>\n",
              "      <td>Yes</td>\n",
              "      <td>Yes</td>\n",
              "      <td>0</td>\n",
              "      <td>Yes</td>\n",
              "      <td>No</td>\n",
              "      <td>No</td>\n",
              "      <td>No internet service</td>\n",
              "      <td>...</td>\n",
              "      <td>No internet service</td>\n",
              "      <td>No internet service</td>\n",
              "      <td>No internet service</td>\n",
              "      <td>No internet service</td>\n",
              "      <td>Two year</td>\n",
              "      <td>No</td>\n",
              "      <td>Mailed check</td>\n",
              "      <td>19.85</td>\n",
              "      <td>NaN</td>\n",
              "      <td>No</td>\n",
              "    </tr>\n",
              "    <tr>\n",
              "      <th>3826</th>\n",
              "      <td>3213-VVOLG</td>\n",
              "      <td>Male</td>\n",
              "      <td>0</td>\n",
              "      <td>Yes</td>\n",
              "      <td>Yes</td>\n",
              "      <td>0</td>\n",
              "      <td>Yes</td>\n",
              "      <td>Yes</td>\n",
              "      <td>No</td>\n",
              "      <td>No internet service</td>\n",
              "      <td>...</td>\n",
              "      <td>No internet service</td>\n",
              "      <td>No internet service</td>\n",
              "      <td>No internet service</td>\n",
              "      <td>No internet service</td>\n",
              "      <td>Two year</td>\n",
              "      <td>No</td>\n",
              "      <td>Mailed check</td>\n",
              "      <td>25.35</td>\n",
              "      <td>NaN</td>\n",
              "      <td>No</td>\n",
              "    </tr>\n",
              "    <tr>\n",
              "      <th>4380</th>\n",
              "      <td>2520-SGTTA</td>\n",
              "      <td>Female</td>\n",
              "      <td>0</td>\n",
              "      <td>Yes</td>\n",
              "      <td>Yes</td>\n",
              "      <td>0</td>\n",
              "      <td>Yes</td>\n",
              "      <td>No</td>\n",
              "      <td>No</td>\n",
              "      <td>No internet service</td>\n",
              "      <td>...</td>\n",
              "      <td>No internet service</td>\n",
              "      <td>No internet service</td>\n",
              "      <td>No internet service</td>\n",
              "      <td>No internet service</td>\n",
              "      <td>Two year</td>\n",
              "      <td>No</td>\n",
              "      <td>Mailed check</td>\n",
              "      <td>20.00</td>\n",
              "      <td>NaN</td>\n",
              "      <td>No</td>\n",
              "    </tr>\n",
              "    <tr>\n",
              "      <th>5218</th>\n",
              "      <td>2923-ARZLG</td>\n",
              "      <td>Male</td>\n",
              "      <td>0</td>\n",
              "      <td>Yes</td>\n",
              "      <td>Yes</td>\n",
              "      <td>0</td>\n",
              "      <td>Yes</td>\n",
              "      <td>No</td>\n",
              "      <td>No</td>\n",
              "      <td>No internet service</td>\n",
              "      <td>...</td>\n",
              "      <td>No internet service</td>\n",
              "      <td>No internet service</td>\n",
              "      <td>No internet service</td>\n",
              "      <td>No internet service</td>\n",
              "      <td>One year</td>\n",
              "      <td>Yes</td>\n",
              "      <td>Mailed check</td>\n",
              "      <td>19.70</td>\n",
              "      <td>NaN</td>\n",
              "      <td>No</td>\n",
              "    </tr>\n",
              "    <tr>\n",
              "      <th>6670</th>\n",
              "      <td>4075-WKNIU</td>\n",
              "      <td>Female</td>\n",
              "      <td>0</td>\n",
              "      <td>Yes</td>\n",
              "      <td>Yes</td>\n",
              "      <td>0</td>\n",
              "      <td>Yes</td>\n",
              "      <td>Yes</td>\n",
              "      <td>DSL</td>\n",
              "      <td>No</td>\n",
              "      <td>...</td>\n",
              "      <td>Yes</td>\n",
              "      <td>Yes</td>\n",
              "      <td>Yes</td>\n",
              "      <td>No</td>\n",
              "      <td>Two year</td>\n",
              "      <td>No</td>\n",
              "      <td>Mailed check</td>\n",
              "      <td>73.35</td>\n",
              "      <td>NaN</td>\n",
              "      <td>No</td>\n",
              "    </tr>\n",
              "    <tr>\n",
              "      <th>6754</th>\n",
              "      <td>2775-SEFEE</td>\n",
              "      <td>Male</td>\n",
              "      <td>0</td>\n",
              "      <td>No</td>\n",
              "      <td>Yes</td>\n",
              "      <td>0</td>\n",
              "      <td>Yes</td>\n",
              "      <td>Yes</td>\n",
              "      <td>DSL</td>\n",
              "      <td>Yes</td>\n",
              "      <td>...</td>\n",
              "      <td>No</td>\n",
              "      <td>Yes</td>\n",
              "      <td>No</td>\n",
              "      <td>No</td>\n",
              "      <td>Two year</td>\n",
              "      <td>Yes</td>\n",
              "      <td>Bank transfer (automatic)</td>\n",
              "      <td>61.90</td>\n",
              "      <td>NaN</td>\n",
              "      <td>No</td>\n",
              "    </tr>\n",
              "  </tbody>\n",
              "</table>\n",
              "<p>11 rows × 21 columns</p>\n",
              "</div>\n",
              "      <button class=\"colab-df-convert\" onclick=\"convertToInteractive('df-ec7ad21c-15cd-4c22-8327-fac2f2a46aa8')\"\n",
              "              title=\"Convert this dataframe to an interactive table.\"\n",
              "              style=\"display:none;\">\n",
              "        \n",
              "  <svg xmlns=\"http://www.w3.org/2000/svg\" height=\"24px\"viewBox=\"0 0 24 24\"\n",
              "       width=\"24px\">\n",
              "    <path d=\"M0 0h24v24H0V0z\" fill=\"none\"/>\n",
              "    <path d=\"M18.56 5.44l.94 2.06.94-2.06 2.06-.94-2.06-.94-.94-2.06-.94 2.06-2.06.94zm-11 1L8.5 8.5l.94-2.06 2.06-.94-2.06-.94L8.5 2.5l-.94 2.06-2.06.94zm10 10l.94 2.06.94-2.06 2.06-.94-2.06-.94-.94-2.06-.94 2.06-2.06.94z\"/><path d=\"M17.41 7.96l-1.37-1.37c-.4-.4-.92-.59-1.43-.59-.52 0-1.04.2-1.43.59L10.3 9.45l-7.72 7.72c-.78.78-.78 2.05 0 2.83L4 21.41c.39.39.9.59 1.41.59.51 0 1.02-.2 1.41-.59l7.78-7.78 2.81-2.81c.8-.78.8-2.07 0-2.86zM5.41 20L4 18.59l7.72-7.72 1.47 1.35L5.41 20z\"/>\n",
              "  </svg>\n",
              "      </button>\n",
              "      \n",
              "  <style>\n",
              "    .colab-df-container {\n",
              "      display:flex;\n",
              "      flex-wrap:wrap;\n",
              "      gap: 12px;\n",
              "    }\n",
              "\n",
              "    .colab-df-convert {\n",
              "      background-color: #E8F0FE;\n",
              "      border: none;\n",
              "      border-radius: 50%;\n",
              "      cursor: pointer;\n",
              "      display: none;\n",
              "      fill: #1967D2;\n",
              "      height: 32px;\n",
              "      padding: 0 0 0 0;\n",
              "      width: 32px;\n",
              "    }\n",
              "\n",
              "    .colab-df-convert:hover {\n",
              "      background-color: #E2EBFA;\n",
              "      box-shadow: 0px 1px 2px rgba(60, 64, 67, 0.3), 0px 1px 3px 1px rgba(60, 64, 67, 0.15);\n",
              "      fill: #174EA6;\n",
              "    }\n",
              "\n",
              "    [theme=dark] .colab-df-convert {\n",
              "      background-color: #3B4455;\n",
              "      fill: #D2E3FC;\n",
              "    }\n",
              "\n",
              "    [theme=dark] .colab-df-convert:hover {\n",
              "      background-color: #434B5C;\n",
              "      box-shadow: 0px 1px 3px 1px rgba(0, 0, 0, 0.15);\n",
              "      filter: drop-shadow(0px 1px 2px rgba(0, 0, 0, 0.3));\n",
              "      fill: #FFFFFF;\n",
              "    }\n",
              "  </style>\n",
              "\n",
              "      <script>\n",
              "        const buttonEl =\n",
              "          document.querySelector('#df-ec7ad21c-15cd-4c22-8327-fac2f2a46aa8 button.colab-df-convert');\n",
              "        buttonEl.style.display =\n",
              "          google.colab.kernel.accessAllowed ? 'block' : 'none';\n",
              "\n",
              "        async function convertToInteractive(key) {\n",
              "          const element = document.querySelector('#df-ec7ad21c-15cd-4c22-8327-fac2f2a46aa8');\n",
              "          const dataTable =\n",
              "            await google.colab.kernel.invokeFunction('convertToInteractive',\n",
              "                                                     [key], {});\n",
              "          if (!dataTable) return;\n",
              "\n",
              "          const docLinkHtml = 'Like what you see? Visit the ' +\n",
              "            '<a target=\"_blank\" href=https://colab.research.google.com/notebooks/data_table.ipynb>data table notebook</a>'\n",
              "            + ' to learn more about interactive tables.';\n",
              "          element.innerHTML = '';\n",
              "          dataTable['output_type'] = 'display_data';\n",
              "          await google.colab.output.renderOutput(dataTable, element);\n",
              "          const docLink = document.createElement('div');\n",
              "          docLink.innerHTML = docLinkHtml;\n",
              "          element.appendChild(docLink);\n",
              "        }\n",
              "      </script>\n",
              "    </div>\n",
              "  </div>\n",
              "  "
            ]
          },
          "metadata": {},
          "execution_count": 4
        }
      ]
    },
    {
      "cell_type": "markdown",
      "source": [
        "Após o tratamento da coluna, é possível notar que a mesma possui 11 valores ausentes. Apesar da coluna `MontlyCharges` possuir dados não nulos, essas linhas serão removidas do dataframe, pois as informações parecem contraditórias."
      ],
      "metadata": {
        "id": "j0t8hCS5hRet"
      }
    },
    {
      "cell_type": "code",
      "source": [
        "# Descartar linhas com valores nulos\n",
        "df.dropna(inplace=True)"
      ],
      "metadata": {
        "id": "kmSFYlmDiPNJ"
      },
      "execution_count": 5,
      "outputs": []
    },
    {
      "cell_type": "code",
      "source": [
        "df.info()"
      ],
      "metadata": {
        "colab": {
          "base_uri": "https://localhost:8080/"
        },
        "id": "mBlfgLjjilWH",
        "outputId": "cb973c9e-2315-4e73-f388-02d9b89e476b"
      },
      "execution_count": 6,
      "outputs": [
        {
          "output_type": "stream",
          "name": "stdout",
          "text": [
            "<class 'pandas.core.frame.DataFrame'>\n",
            "Int64Index: 7032 entries, 0 to 7042\n",
            "Data columns (total 21 columns):\n",
            " #   Column            Non-Null Count  Dtype  \n",
            "---  ------            --------------  -----  \n",
            " 0   customerID        7032 non-null   object \n",
            " 1   gender            7032 non-null   object \n",
            " 2   SeniorCitizen     7032 non-null   int64  \n",
            " 3   Partner           7032 non-null   object \n",
            " 4   Dependents        7032 non-null   object \n",
            " 5   tenure            7032 non-null   int64  \n",
            " 6   PhoneService      7032 non-null   object \n",
            " 7   MultipleLines     7032 non-null   object \n",
            " 8   InternetService   7032 non-null   object \n",
            " 9   OnlineSecurity    7032 non-null   object \n",
            " 10  OnlineBackup      7032 non-null   object \n",
            " 11  DeviceProtection  7032 non-null   object \n",
            " 12  TechSupport       7032 non-null   object \n",
            " 13  StreamingTV       7032 non-null   object \n",
            " 14  StreamingMovies   7032 non-null   object \n",
            " 15  Contract          7032 non-null   object \n",
            " 16  PaperlessBilling  7032 non-null   object \n",
            " 17  PaymentMethod     7032 non-null   object \n",
            " 18  MonthlyCharges    7032 non-null   float64\n",
            " 19  TotalCharges      7032 non-null   float64\n",
            " 20  Churn             7032 non-null   object \n",
            "dtypes: float64(2), int64(2), object(17)\n",
            "memory usage: 1.2+ MB\n"
          ]
        }
      ]
    },
    {
      "cell_type": "markdown",
      "source": [
        "Pronto! Agora nosso dataframe possui apensas 7032 linhas.\n",
        "\n",
        "Um outro fator que deve ser levado em considerção é a coluna `customerID`, pois ela não tem impacto algum na previsão dos dados. Quanto mais enxuta a quantidade de colunas (o máximo de colunas para realizar uma boa predição),mais rápido será para obeter a previsão. Por tanto, a coluna `customerID` deve ser retirado do dataframe."
      ],
      "metadata": {
        "id": "wW5-jry4i0fg"
      }
    },
    {
      "cell_type": "code",
      "source": [
        "# Remover a coluna customerID do dataset\n",
        "df.drop(columns='customerID', inplace=True)"
      ],
      "metadata": {
        "id": "J20lIvtmj_CM"
      },
      "execution_count": 7,
      "outputs": []
    },
    {
      "cell_type": "code",
      "source": [
        "# Saber os elementos excusivos da coluna PaymentMethod\n",
        "df['PaymentMethod'].unique()"
      ],
      "metadata": {
        "colab": {
          "base_uri": "https://localhost:8080/"
        },
        "id": "mURLX3iKHPMn",
        "outputId": "e67ba359-9042-4746-d5ef-59526f6c9e0d"
      },
      "execution_count": 8,
      "outputs": [
        {
          "output_type": "execute_result",
          "data": {
            "text/plain": [
              "array(['Electronic check', 'Mailed check', 'Bank transfer (automatic)',\n",
              "       'Credit card (automatic)'], dtype=object)"
            ]
          },
          "metadata": {},
          "execution_count": 8
        }
      ]
    },
    {
      "cell_type": "markdown",
      "source": [
        "Os nomes acima, da coluna `PaymentMethod`, s˜ão longos demaus para serem utilizados como rótulos em outras visualizações. Portanto, será removido os nomes entre parênteses das entradas das colunas."
      ],
      "metadata": {
        "id": "KVhCNUZuHmBm"
      }
    },
    {
      "cell_type": "code",
      "source": [
        "# Remover `(automático)` dos nomes das formas de pagamento\n",
        "df['PaymentMethod'] = df['PaymentMethod'].str.replace(' (automatic)', '', regex=False)"
      ],
      "metadata": {
        "id": "tRQ5kCrbIJ_7"
      },
      "execution_count": 9,
      "outputs": []
    },
    {
      "cell_type": "markdown",
      "source": [
        "Agora repete-se o camando para saber os valores únicos da coluna."
      ],
      "metadata": {
        "id": "aAaG5EH6IeQm"
      }
    },
    {
      "cell_type": "code",
      "source": [
        "df['PaymentMethod'].unique()"
      ],
      "metadata": {
        "colab": {
          "base_uri": "https://localhost:8080/"
        },
        "id": "GITfJosdImYH",
        "outputId": "3d360c0c-a94a-4c12-e087-01b9da707ef6"
      },
      "execution_count": 10,
      "outputs": [
        {
          "output_type": "execute_result",
          "data": {
            "text/plain": [
              "array(['Electronic check', 'Mailed check', 'Bank transfer', 'Credit card'],\n",
              "      dtype=object)"
            ]
          },
          "metadata": {},
          "execution_count": 10
        }
      ]
    },
    {
      "cell_type": "markdown",
      "source": [
        "# **Visualização de dados**"
      ],
      "metadata": {
        "id": "tBjWmWRdIsyp"
      }
    },
    {
      "cell_type": "code",
      "source": [
        "df['Churn'].value_counts(normalize=True)"
      ],
      "metadata": {
        "colab": {
          "base_uri": "https://localhost:8080/"
        },
        "id": "LoEJtBzIX7Rp",
        "outputId": "b4aa7e3c-04f2-4b7f-b0fe-ea991850ba77"
      },
      "execution_count": 11,
      "outputs": [
        {
          "output_type": "execute_result",
          "data": {
            "text/plain": [
              "No     0.734215\n",
              "Yes    0.265785\n",
              "Name: Churn, dtype: float64"
            ]
          },
          "metadata": {},
          "execution_count": 11
        }
      ]
    },
    {
      "cell_type": "code",
      "source": [
        "# 1. Criar a figura\n",
        "fig = plt.figure(figsize=(10, 6)) \n",
        "ax = fig.add_subplot(111)\n",
        "\n",
        "# configurar as cores que usarei no plot\n",
        "AZUL = \"#003F5c\" \n",
        "CINZA = \"#9E9E9E\"\n",
        "CINZA_TEXTO = \"#515151\"\n",
        "\n",
        "# Mostrar a proporção de observação de cada classe\n",
        "prop_response = df['Churn'].value_counts(normalize=True)\n",
        "\n",
        "# Criar um gráfico de barras, a fim de mostrar a porcentagem de Churn\n",
        "prop_response.plot(kind='bar', \n",
        "                   ax=ax,\n",
        "                   color=[AZUL, CINZA])\n",
        "\n",
        "# Título\n",
        "ax.text(-0.5, 0.9,'Proporção de observações da variável de resposta', fontsize=18, color=AZUL, fontweight='bold')\n",
        "\n",
        "ax.set_xlabel('Churn',\n",
        "              fontsize=14)\n",
        "\n",
        "ax.tick_params(rotation='auto')\n",
        "\n",
        "#Eliminar as linhas do plot\n",
        "ax.spines['top'].set_visible(False)\n",
        "# ax.spines['bottom'].set_visible(False)\n",
        "#ax.spines['left'].set_visible(False)\n",
        "ax.spines['right'].set_visible(False)"
      ],
      "metadata": {
        "colab": {
          "base_uri": "https://localhost:8080/",
          "height": 461
        },
        "id": "eTvaDD3MJA2I",
        "outputId": "7b605704-8981-4fe6-f13f-f1aec5be54eb"
      },
      "execution_count": 12,
      "outputs": [
        {
          "output_type": "display_data",
          "data": {
            "text/plain": [
              "<Figure size 720x432 with 1 Axes>"
            ],
            "image/png": "[encoded data removed]"
          },
          "metadata": {
            "needs_background": "light"
          }
        }
      ]
    },
    {
      "cell_type": "markdown",
      "source": [
        "Acima, o gráfico de barras mostra a porcentagem de observações que correspondem a cada classe da variável de resposta: Yes (sim) e No (Não). Trata-se de um conjunto de dados desbalanceado, pois ambas as classes não estão distribuídas igualmente entre todas as observações, nesse caso `no` é a classe majoritária (**73,42%**). Na modelagem, esse desequilíbrio levará a um grande número de falsos negativos."
      ],
      "metadata": {
        "id": "ajzWuyZ3JKMM"
      }
    },
    {
      "cell_type": "markdown",
      "source": [
        "# **Informação demográfica**\n",
        "\n",
        "O código abaixo cria um *stacked bar* com porcentagem empilhada para cada atributo demográfico (`gender`, `SeniorCitizen`, `Partner`, `Dependents`), a fim de motrar a porcentagem de `Churn` para cada categoria do atributo."
      ],
      "metadata": {
        "id": "__AePzpXdhsb"
      }
    },
    {
      "cell_type": "code",
      "source": [
        "import math\n",
        "def percentage_stacked_plot(columns_to_plot, super_title):\n",
        "    \n",
        "    '''\n",
        "            Imprime um gráfico stacked bar da variável de resposta para a variável \n",
        "            independente da lista columns_to_plot.\n",
        "\n",
        "             Parâmetros:\n",
        "                     columns_to_plot (lista de strings): nomes das colunas a serem plotadas.\n",
        "                     super_title (string): Título da visualização.\n",
        "\n",
        "             Returns:\n",
        "                    None\n",
        "    '''\n",
        "    \n",
        "    number_of_columns = 2\n",
        "    number_of_rows = math.ceil(len(columns_to_plot)/2)\n",
        "\n",
        "    # Criar a figura\n",
        "    fig = plt.figure(figsize=(12, 5 * number_of_rows)) \n",
        "    fig.suptitle(super_title, fontsize=22,  y=.95)\n",
        " \n",
        "\n",
        "    # Loop para cada nome de coluna para criar um subplot.\n",
        "    for index, column in enumerate(columns_to_plot, 1):\n",
        "\n",
        "        # Criar o subplot\n",
        "        ax = fig.add_subplot(number_of_rows, number_of_columns, index)\n",
        "\n",
        "        # Calcular a porcentagem de observações da variável resposta para cada grupo da variável independente.\n",
        "        prop_by_independent = pd.crosstab(df[column], df['Churn']).apply(lambda x: x/x.sum()*100, axis=1)\n",
        "\n",
        "        prop_by_independent.plot(kind='bar', ax=ax, stacked=True,\n",
        "                                 rot=0, color=[AZUL, CINZA])\n",
        "\n",
        "        # Definir a legenda no canto superior direito\n",
        "        ax.legend(loc=\"upper right\", bbox_to_anchor=(0.62, 0.5, 0.5, 0.5),\n",
        "                  title='Churn', fancybox=True)\n",
        "\n",
        "        # Título de cada gráfico\n",
        "        names_port = ['Gênero', 'Idoso', 'Parceiros', 'Dependentes']\n",
        "        ax.set_title('Proporção de observações por ' + column,\n",
        "                     fontsize=16, loc='left')\n",
        "\n",
        "        ax.tick_params(rotation='auto')\n",
        "\n",
        "        #Eliminar as linhas do plot\n",
        "        ax.spines['top'].set_visible(False)\n",
        "        #ax.spines['bottom'].set_visible(False)\n",
        "        ax.spines['left'].set_visible(False)\n",
        "        ax.spines['right'].set_visible(False)"
      ],
      "metadata": {
        "id": "v57ABc42eB3u"
      },
      "execution_count": 13,
      "outputs": []
    },
    {
      "cell_type": "code",
      "source": [
        "# demographic column names\n",
        "demographic_columns = ['gender', 'SeniorCitizen', 'Partner', 'Dependents']\n",
        "\n",
        "\n",
        "# stacked plot of demographic columns\n",
        "percentage_stacked_plot(demographic_columns, 'Informação demográfica')"
      ],
      "metadata": {
        "colab": {
          "base_uri": "https://localhost:8080/",
          "height": 0
        },
        "id": "XCgbJoL2eL83",
        "outputId": "ea062bf0-22a8-46b1-e7b3-c3518e7929e2"
      },
      "execution_count": 14,
      "outputs": [
        {
          "output_type": "display_data",
          "data": {
            "text/plain": [
              "<Figure size 864x720 with 4 Axes>"
            ],
            "image/png": "[encoded data removed]"
          },
          "metadata": {
            "needs_background": "light"
          }
        }
      ]
    },
    {
      "cell_type": "markdown",
      "source": [
        "Os gráficos gerados acima facilitam a visualização, pois comparam as variáveis de resposta em todos os grupos de uma variável independente. Por exemplo, no primeiro gráfico ele nos mostra a porcentagem de mulheres e homens que saíram ou não, em apenas uma única barra.\n",
        "\n",
        "Podemos extrair as seguintes conclusões analisando o gráfico:\n",
        "\n",
        "\n",
        "\n",
        "* A taxa de rotatividade dos idosos é quase o dobro da dos jovens.\n",
        "\n",
        "* O gênero não tem poder preditivo significativo, pois a porcentagem de ***churn*** mostrada é semelhante tanto quando um cliente é um homem ou uma mulher.\n",
        "\n",
        "* Clientes com um parceiro desistem menos do que clientes sem parceiro.\n",
        "\n",
        "* Clientes com dependentes desistem muito menos do que clientes sem dependentes.\n",
        "\n"
      ],
      "metadata": {
        "id": "lbwafpfe6u4n"
      }
    },
    {
      "cell_type": "markdown",
      "source": [
        "# **Informações da conta do cliente**"
      ],
      "metadata": {
        "id": "fHxydSMCHdmB"
      }
    },
    {
      "cell_type": "markdown",
      "source": [
        "Será avaliado o percentual de ***Churn*** para cada categoria dos atributos da conta do cliente (`Contract`, `PaperlessBilling`, `PaymentMethod`)."
      ],
      "metadata": {
        "id": "2OOeo9NUHvSM"
      }
    },
    {
      "cell_type": "code",
      "source": [
        "# Nomes das colunas da conta do cliente\n",
        "account_columns = ['Contract', 'PaperlessBilling', 'PaymentMethod']\n",
        "\n",
        "# Plotar o gráfico Stacked plot de colunas da conta do cliente\n",
        "percentage_stacked_plot(account_columns, 'Informações da conta do cliente')"
      ],
      "metadata": {
        "colab": {
          "base_uri": "https://localhost:8080/",
          "height": 0
        },
        "id": "g08GuC0eHk5Q",
        "outputId": "9624ddde-c2cd-49b3-fc64-830a16c278f5"
      },
      "execution_count": 15,
      "outputs": [
        {
          "output_type": "display_data",
          "data": {
            "text/plain": [
              "<Figure size 864x720 with 3 Axes>"
            ],
            "image/png": "[encoded data removed]"
          },
          "metadata": {
            "needs_background": "light"
          }
        }
      ]
    },
    {
      "cell_type": "markdown",
      "source": [
        "É possível concluir, após a análise dos atributos da conta dos clientes, que:\n",
        "\n",
        "* Clientes com contratos mensais têm taxas de ***churn*** mais altas em comparação com clientes com contratos anuais.\n",
        "\n",
        "* Os clientes que optaram pelo cheque eletrônico como forma de pagamento têm maior probabilidade de deixar a empresa.\n",
        "\n",
        "* Os clientes inscritos com faturamento sem papel, ou seja, faturas por email ou outro meio eletrônico, possuem mais probabilidade  de deixar a empresa."
      ],
      "metadata": {
        "id": "ToLxxOynJCm8"
      }
    },
    {
      "cell_type": "code",
      "source": [
        "def histogram_plots(columns_to_plot, super_title):\n",
        "    \n",
        "  #Setar o número de linhas e colunas do gráfico\n",
        "  number_of_columns = 2\n",
        "  number_of_rows = math.ceil(len(columns_to_plot)/2)\n",
        "\n",
        "    # Criar a figura\n",
        "  fig = plt.figure(figsize=(12, 5 * number_of_rows)) \n",
        "  fig.suptitle(super_title, fontsize=22,  y=.95)\n",
        " \n",
        "\n",
        "    # Loop para cada nome de coluna demográfica\n",
        "  for index, column in enumerate(columns_to_plot, 1):\n",
        "\n",
        "        # Criar o subplot\n",
        "    ax = fig.add_subplot(number_of_rows, number_of_columns, index)\n",
        "\n",
        "        # Histograma para cada classe\n",
        "    df[df['Churn']=='No'][column].plot(kind='hist', ax=ax, density=True, \n",
        "                                                       alpha=0.5, color=CINZA, label='No')\n",
        "    df[df['Churn']=='Yes'][column].plot(kind='hist', ax=ax, density=True,\n",
        "                                                        alpha=0.5, color=AZUL, label='Yes')\n",
        "        \n",
        "        # Colocar a legenda no canto superior direito\n",
        "    ax.legend(loc=\"upper right\", bbox_to_anchor=(0.5, 0.5, 0.5, 0.5),\n",
        "                  title='Churn', fancybox=True)\n",
        "\n",
        "        # Título de cada plot\n",
        "    ax.set_title('Distribuição de ' + column + ' por churn',\n",
        "                     fontsize=16, loc='left')\n",
        "\n",
        "    ax.tick_params(rotation='auto')\n",
        "\n",
        "    #Eliminar as linhas do plot\n",
        "    ax.spines['top'].set_visible(False)\n",
        "    #ax.spines['bottom'].set_visible(False)\n",
        "    ax.spines['left'].set_visible(False)\n",
        "    ax.spines['right'].set_visible(False)\n",
        "            \n"
      ],
      "metadata": {
        "id": "0xk2MgAl6una"
      },
      "execution_count": 16,
      "outputs": []
    },
    {
      "cell_type": "code",
      "source": [
        "# customer account column names\n",
        "account_columns_numeric = ['tenure', 'MonthlyCharges', 'TotalCharges']\n",
        "# histogram of costumer account columns \n",
        "histogram_plots(account_columns_numeric, 'Informações da conta do cliente')"
      ],
      "metadata": {
        "colab": {
          "base_uri": "https://localhost:8080/",
          "height": 0
        },
        "id": "NPX-X7ybMZqM",
        "outputId": "b994ee83-3f68-4245-b6f4-34bf32f5d663"
      },
      "execution_count": 17,
      "outputs": [
        {
          "output_type": "display_data",
          "data": {
            "text/plain": [
              "<Figure size 864x720 with 3 Axes>"
            ],
            "image/png": "[encoded data removed]"
          },
          "metadata": {
            "needs_background": "light"
          }
        }
      ]
    },
    {
      "cell_type": "markdown",
      "source": [
        "Os plots acima nos mostram a distribuição das colunas `tenure`, `MontlyCharges`e `TotalCharges` por **Churn**. Todos os atributos são numéricos e as distribuições de ambas as classes (Não e Sim) são diferentes. Isso que sugere que todos os atributos são úteis para determinar se um cliente se desliga ou não."
      ],
      "metadata": {
        "id": "tNbOImSuS1cT"
      }
    },
    {
      "cell_type": "markdown",
      "source": [
        "A partir dos plots acima, podemos concluir que:\n",
        "\n",
        "* A taxa de **churn** é maior quando as cobranças mensais são altas;\n",
        "* Os novos cliente (baixo tempo de permanência) são mais propensos a **churn**.\n",
        "* Clientes com altas taxas totais são menos propensos a deixar a empresa."
      ],
      "metadata": {
        "id": "CmroOFd4TkGC"
      }
    },
    {
      "cell_type": "markdown",
      "source": [
        "# **Informações de Serviços**\n",
        "\n",
        "A última análise será feita pela porcentagem da meta para cada categoria das colunas de serviços com stacked bar plots."
      ],
      "metadata": {
        "id": "Vk64kArfU18_"
      }
    },
    {
      "cell_type": "code",
      "source": [
        "#Nomes das colunas de serviço\n",
        "services_columns = [ 'PhoneService', 'MultipleLines', 'InternetService', 'OnlineSecurity', 'OnlineBackup', 'DeviceProtection', 'TechSupport', 'StreamingTV', 'StreamingMovies']\n",
        "\n",
        "# Plotar com stacked plot as colunas de serviço\n",
        "percentage_stacked_plot(services_columns, 'Informações de serviços')"
      ],
      "metadata": {
        "colab": {
          "base_uri": "https://localhost:8080/",
          "height": 0
        },
        "id": "QkFjXMDZWGSE",
        "outputId": "d4f4e1fb-47d7-44ba-8bd7-839f7b659500"
      },
      "execution_count": 18,
      "outputs": [
        {
          "output_type": "display_data",
          "data": {
            "text/plain": [
              "<Figure size 864x1800 with 9 Axes>"
            ],
            "image/png": "[encoded data removed]"
          },
          "metadata": {
            "needs_background": "light"
          }
        }
      ]
    },
    {
      "cell_type": "markdown",
      "source": [
        "A partir dos plots acima, podemos concluir que:\n",
        "\n",
        "* Clientes que não possuem o serviço de segurança online tem maior taxa de **churn**;\n",
        "* Clientes sem o suporte técnico tendem a se desligar mais do que aqueles que possuem o suporte;\n",
        "* As colunas `PhoneService`, `MultipleLines` e `StreamingMovies` não possuem poder preditivo significativo, pois a porcentagem de churn para todas as classes em ambas as variáveis independentes é quase a mesma;\n",
        "\n",
        "* Clientes que não possuem Backup online tendem a deixar os serviços da empresa;\n",
        "\n",
        "* Clientes que possuem fibra ótica são os que possuem mair taxa de **churn**.\n"
      ],
      "metadata": {
        "id": "zIEBpkmdZwN1"
      }
    },
    {
      "cell_type": "markdown",
      "source": [
        "# **Informações mútuas — Análise de relações lineares e não lineares**"
      ],
      "metadata": {
        "id": "7QDpJ49J-Q7K"
      }
    },
    {
      "cell_type": "markdown",
      "source": [
        "A informação mútua mede a dependência mútua entre duas variáveis com base em estimativas de $entropia^1$. No aprendizado de máquina, estamos interessados em avaliar o grau de dependência entre cada variável independente e a variável de resposta. Valores mais altos de informações mútuas mostram um maior grau de dependência o que indica que a variável independente será útil para prever o alvo."
      ],
      "metadata": {
        "id": "Lh1rj1jZ-UeN"
      }
    },
    {
      "cell_type": "code",
      "source": [
        "# Importar bibliotecas\n",
        "from sklearn.metrics import mutual_info_score\n",
        "\n",
        "# Função para calcular a pontuação de informação mútua entre uma série categórica e a coluna Churn.\n",
        "def compute_mutual_information(categorical_serie):\n",
        "    return mutual_info_score(categorical_serie, df.Churn)\n",
        "\n",
        "# Seleciona variáveis categoriais e exclui a variável de resposta\n",
        "categorical_variables = df.select_dtypes(include=object).drop('Churn', axis=1)\n",
        "\n",
        "# compute the mutual information score between each categorical variable and the target\n",
        "feature_importance = categorical_variables.apply(compute_mutual_information).sort_values(ascending=False)\n",
        "\n",
        "# visualize feature importance\n",
        "print(feature_importance)"
      ],
      "metadata": {
        "id": "MRJ4WVMtAAdj",
        "colab": {
          "base_uri": "https://localhost:8080/"
        },
        "outputId": "f6e42cd3-f3c0-4cf0-e06f-16fb12372b6d"
      },
      "execution_count": 19,
      "outputs": [
        {
          "output_type": "stream",
          "name": "stdout",
          "text": [
            "Contract            0.098182\n",
            "OnlineSecurity      0.064528\n",
            "TechSupport         0.062873\n",
            "InternetService     0.055394\n",
            "OnlineBackup        0.046659\n",
            "PaymentMethod       0.044423\n",
            "DeviceProtection    0.043784\n",
            "StreamingMovies     0.031918\n",
            "StreamingTV         0.031803\n",
            "PaperlessBilling    0.019119\n",
            "Dependents          0.014270\n",
            "Partner             0.011383\n",
            "MultipleLines       0.000798\n",
            "PhoneService        0.000069\n",
            "gender              0.000037\n",
            "dtype: float64\n"
          ]
        }
      ]
    },
    {
      "cell_type": "markdown",
      "source": [
        "O código acima calcula a pontuação de informações mútuas entre cada variável categórica do conjunto de dados e a variável **Churn**.\n",
        "\n",
        "\n",
        "As informações mútuas permite entender melhor os dados, além de identificar as variáveis preditoras que são completamente independentes da variável alvo. Conforme mostrado acima, as variáveis `gender`, `PhoneService` e `MultipleLines` têm uma pontuação de informação mútua muito próxima de 0, sendo assim essas variáveis não têm uma relação forte com o destino. \n",
        "\n",
        "Conclui-se que a informação acima está de acordo com as conclusões percebidas anteriormente ao visualizar os dados. Portanto, é necessário considerar a remoção das variáveis em comento, pois elas não fornecem informações relevantes para prever o resultado."
      ],
      "metadata": {
        "id": "SdZgWVLqr6rK"
      }
    },
    {
      "cell_type": "code",
      "source": [
        "# Mostrar a informação de forma gráfica\n",
        "feature_importance.plot(kind='barh', figsize=(12,8), title='Importância por coluna' )"
      ],
      "metadata": {
        "colab": {
          "base_uri": "https://localhost:8080/",
          "height": 0
        },
        "id": "AcuvbEBpwtom",
        "outputId": "9f96703e-e032-4105-b2ce-11075de58090"
      },
      "execution_count": 20,
      "outputs": [
        {
          "output_type": "execute_result",
          "data": {
            "text/plain": [
              "<matplotlib.axes._subplots.AxesSubplot at 0x7f45c3e6dfd0>"
            ]
          },
          "metadata": {},
          "execution_count": 20
        },
        {
          "output_type": "display_data",
          "data": {
            "text/plain": [
              "<Figure size 864x576 with 1 Axes>"
            ],
            "image/png": "[encoded data removed]"
          },
          "metadata": {
            "needs_background": "light"
          }
        }
      ]
    },
    {
      "cell_type": "markdown",
      "source": [
        "# **Preparação dos dados**"
      ],
      "metadata": {
        "id": "ya8w2vYxP67F"
      }
    },
    {
      "cell_type": "markdown",
      "source": [
        "**Seleção de atributos**"
      ],
      "metadata": {
        "id": "iB2_zc9XQ9F2"
      }
    },
    {
      "cell_type": "code",
      "source": [
        "# Remover as colunas que não contêm informações úteis\n",
        "labels1 = ['PhoneService', 'MultipleLines'] \n",
        "df_clear = df.drop(labels1, axis=1)\n",
        "df_clear.head()"
      ],
      "metadata": {
        "colab": {
          "base_uri": "https://localhost:8080/",
          "height": 206
        },
        "id": "LR1E0SBpQS_z",
        "outputId": "15d57b85-323c-426b-a1d7-84f4b4abba53"
      },
      "execution_count": 21,
      "outputs": [
        {
          "output_type": "execute_result",
          "data": {
            "text/plain": [
              "   gender  SeniorCitizen Partner Dependents  tenure InternetService  \\\n",
              "0  Female              0     Yes         No       1             DSL   \n",
              "1    Male              0      No         No      34             DSL   \n",
              "2    Male              0      No         No       2             DSL   \n",
              "3    Male              0      No         No      45             DSL   \n",
              "4  Female              0      No         No       2     Fiber optic   \n",
              "\n",
              "  OnlineSecurity OnlineBackup DeviceProtection TechSupport StreamingTV  \\\n",
              "0             No          Yes               No          No          No   \n",
              "1            Yes           No              Yes          No          No   \n",
              "2            Yes          Yes               No          No          No   \n",
              "3            Yes           No              Yes         Yes          No   \n",
              "4             No           No               No          No          No   \n",
              "\n",
              "  StreamingMovies        Contract PaperlessBilling     PaymentMethod  \\\n",
              "0              No  Month-to-month              Yes  Electronic check   \n",
              "1              No        One year               No      Mailed check   \n",
              "2              No  Month-to-month              Yes      Mailed check   \n",
              "3              No        One year               No     Bank transfer   \n",
              "4              No  Month-to-month              Yes  Electronic check   \n",
              "\n",
              "   MonthlyCharges  TotalCharges Churn  \n",
              "0           29.85         29.85    No  \n",
              "1           56.95       1889.50    No  \n",
              "2           53.85        108.15   Yes  \n",
              "3           42.30       1840.75    No  \n",
              "4           70.70        151.65   Yes  "
            ],
            "text/html": [
              "\n",
              "  <div id=\"df-faa277bf-1f75-4799-b9a5-54add8045683\">\n",
              "    <div class=\"colab-df-container\">\n",
              "      <div>\n",
              "<style scoped>\n",
              "    .dataframe tbody tr th:only-of-type {\n",
              "        vertical-align: middle;\n",
              "    }\n",
              "\n",
              "    .dataframe tbody tr th {\n",
              "        vertical-align: top;\n",
              "    }\n",
              "\n",
              "    .dataframe thead th {\n",
              "        text-align: right;\n",
              "    }\n",
              "</style>\n",
              "<table border=\"1\" class=\"dataframe\">\n",
              "  <thead>\n",
              "    <tr style=\"text-align: right;\">\n",
              "      <th></th>\n",
              "      <th>gender</th>\n",
              "      <th>SeniorCitizen</th>\n",
              "      <th>Partner</th>\n",
              "      <th>Dependents</th>\n",
              "      <th>tenure</th>\n",
              "      <th>InternetService</th>\n",
              "      <th>OnlineSecurity</th>\n",
              "      <th>OnlineBackup</th>\n",
              "      <th>DeviceProtection</th>\n",
              "      <th>TechSupport</th>\n",
              "      <th>StreamingTV</th>\n",
              "      <th>StreamingMovies</th>\n",
              "      <th>Contract</th>\n",
              "      <th>PaperlessBilling</th>\n",
              "      <th>PaymentMethod</th>\n",
              "      <th>MonthlyCharges</th>\n",
              "      <th>TotalCharges</th>\n",
              "      <th>Churn</th>\n",
              "    </tr>\n",
              "  </thead>\n",
              "  <tbody>\n",
              "    <tr>\n",
              "      <th>0</th>\n",
              "      <td>Female</td>\n",
              "      <td>0</td>\n",
              "      <td>Yes</td>\n",
              "      <td>No</td>\n",
              "      <td>1</td>\n",
              "      <td>DSL</td>\n",
              "      <td>No</td>\n",
              "      <td>Yes</td>\n",
              "      <td>No</td>\n",
              "      <td>No</td>\n",
              "      <td>No</td>\n",
              "      <td>No</td>\n",
              "      <td>Month-to-month</td>\n",
              "      <td>Yes</td>\n",
              "      <td>Electronic check</td>\n",
              "      <td>29.85</td>\n",
              "      <td>29.85</td>\n",
              "      <td>No</td>\n",
              "    </tr>\n",
              "    <tr>\n",
              "      <th>1</th>\n",
              "      <td>Male</td>\n",
              "      <td>0</td>\n",
              "      <td>No</td>\n",
              "      <td>No</td>\n",
              "      <td>34</td>\n",
              "      <td>DSL</td>\n",
              "      <td>Yes</td>\n",
              "      <td>No</td>\n",
              "      <td>Yes</td>\n",
              "      <td>No</td>\n",
              "      <td>No</td>\n",
              "      <td>No</td>\n",
              "      <td>One year</td>\n",
              "      <td>No</td>\n",
              "      <td>Mailed check</td>\n",
              "      <td>56.95</td>\n",
              "      <td>1889.50</td>\n",
              "      <td>No</td>\n",
              "    </tr>\n",
              "    <tr>\n",
              "      <th>2</th>\n",
              "      <td>Male</td>\n",
              "      <td>0</td>\n",
              "      <td>No</td>\n",
              "      <td>No</td>\n",
              "      <td>2</td>\n",
              "      <td>DSL</td>\n",
              "      <td>Yes</td>\n",
              "      <td>Yes</td>\n",
              "      <td>No</td>\n",
              "      <td>No</td>\n",
              "      <td>No</td>\n",
              "      <td>No</td>\n",
              "      <td>Month-to-month</td>\n",
              "      <td>Yes</td>\n",
              "      <td>Mailed check</td>\n",
              "      <td>53.85</td>\n",
              "      <td>108.15</td>\n",
              "      <td>Yes</td>\n",
              "    </tr>\n",
              "    <tr>\n",
              "      <th>3</th>\n",
              "      <td>Male</td>\n",
              "      <td>0</td>\n",
              "      <td>No</td>\n",
              "      <td>No</td>\n",
              "      <td>45</td>\n",
              "      <td>DSL</td>\n",
              "      <td>Yes</td>\n",
              "      <td>No</td>\n",
              "      <td>Yes</td>\n",
              "      <td>Yes</td>\n",
              "      <td>No</td>\n",
              "      <td>No</td>\n",
              "      <td>One year</td>\n",
              "      <td>No</td>\n",
              "      <td>Bank transfer</td>\n",
              "      <td>42.30</td>\n",
              "      <td>1840.75</td>\n",
              "      <td>No</td>\n",
              "    </tr>\n",
              "    <tr>\n",
              "      <th>4</th>\n",
              "      <td>Female</td>\n",
              "      <td>0</td>\n",
              "      <td>No</td>\n",
              "      <td>No</td>\n",
              "      <td>2</td>\n",
              "      <td>Fiber optic</td>\n",
              "      <td>No</td>\n",
              "      <td>No</td>\n",
              "      <td>No</td>\n",
              "      <td>No</td>\n",
              "      <td>No</td>\n",
              "      <td>No</td>\n",
              "      <td>Month-to-month</td>\n",
              "      <td>Yes</td>\n",
              "      <td>Electronic check</td>\n",
              "      <td>70.70</td>\n",
              "      <td>151.65</td>\n",
              "      <td>Yes</td>\n",
              "    </tr>\n",
              "  </tbody>\n",
              "</table>\n",
              "</div>\n",
              "      <button class=\"colab-df-convert\" onclick=\"convertToInteractive('df-faa277bf-1f75-4799-b9a5-54add8045683')\"\n",
              "              title=\"Convert this dataframe to an interactive table.\"\n",
              "              style=\"display:none;\">\n",
              "        \n",
              "  <svg xmlns=\"http://www.w3.org/2000/svg\" height=\"24px\"viewBox=\"0 0 24 24\"\n",
              "       width=\"24px\">\n",
              "    <path d=\"M0 0h24v24H0V0z\" fill=\"none\"/>\n",
              "    <path d=\"M18.56 5.44l.94 2.06.94-2.06 2.06-.94-2.06-.94-.94-2.06-.94 2.06-2.06.94zm-11 1L8.5 8.5l.94-2.06 2.06-.94-2.06-.94L8.5 2.5l-.94 2.06-2.06.94zm10 10l.94 2.06.94-2.06 2.06-.94-2.06-.94-.94-2.06-.94 2.06-2.06.94z\"/><path d=\"M17.41 7.96l-1.37-1.37c-.4-.4-.92-.59-1.43-.59-.52 0-1.04.2-1.43.59L10.3 9.45l-7.72 7.72c-.78.78-.78 2.05 0 2.83L4 21.41c.39.39.9.59 1.41.59.51 0 1.02-.2 1.41-.59l7.78-7.78 2.81-2.81c.8-.78.8-2.07 0-2.86zM5.41 20L4 18.59l7.72-7.72 1.47 1.35L5.41 20z\"/>\n",
              "  </svg>\n",
              "      </button>\n",
              "      \n",
              "  <style>\n",
              "    .colab-df-container {\n",
              "      display:flex;\n",
              "      flex-wrap:wrap;\n",
              "      gap: 12px;\n",
              "    }\n",
              "\n",
              "    .colab-df-convert {\n",
              "      background-color: #E8F0FE;\n",
              "      border: none;\n",
              "      border-radius: 50%;\n",
              "      cursor: pointer;\n",
              "      display: none;\n",
              "      fill: #1967D2;\n",
              "      height: 32px;\n",
              "      padding: 0 0 0 0;\n",
              "      width: 32px;\n",
              "    }\n",
              "\n",
              "    .colab-df-convert:hover {\n",
              "      background-color: #E2EBFA;\n",
              "      box-shadow: 0px 1px 2px rgba(60, 64, 67, 0.3), 0px 1px 3px 1px rgba(60, 64, 67, 0.15);\n",
              "      fill: #174EA6;\n",
              "    }\n",
              "\n",
              "    [theme=dark] .colab-df-convert {\n",
              "      background-color: #3B4455;\n",
              "      fill: #D2E3FC;\n",
              "    }\n",
              "\n",
              "    [theme=dark] .colab-df-convert:hover {\n",
              "      background-color: #434B5C;\n",
              "      box-shadow: 0px 1px 3px 1px rgba(0, 0, 0, 0.15);\n",
              "      filter: drop-shadow(0px 1px 2px rgba(0, 0, 0, 0.3));\n",
              "      fill: #FFFFFF;\n",
              "    }\n",
              "  </style>\n",
              "\n",
              "      <script>\n",
              "        const buttonEl =\n",
              "          document.querySelector('#df-faa277bf-1f75-4799-b9a5-54add8045683 button.colab-df-convert');\n",
              "        buttonEl.style.display =\n",
              "          google.colab.kernel.accessAllowed ? 'block' : 'none';\n",
              "\n",
              "        async function convertToInteractive(key) {\n",
              "          const element = document.querySelector('#df-faa277bf-1f75-4799-b9a5-54add8045683');\n",
              "          const dataTable =\n",
              "            await google.colab.kernel.invokeFunction('convertToInteractive',\n",
              "                                                     [key], {});\n",
              "          if (!dataTable) return;\n",
              "\n",
              "          const docLinkHtml = 'Like what you see? Visit the ' +\n",
              "            '<a target=\"_blank\" href=https://colab.research.google.com/notebooks/data_table.ipynb>data table notebook</a>'\n",
              "            + ' to learn more about interactive tables.';\n",
              "          element.innerHTML = '';\n",
              "          dataTable['output_type'] = 'display_data';\n",
              "          await google.colab.output.renderOutput(dataTable, element);\n",
              "          const docLink = document.createElement('div');\n",
              "          docLink.innerHTML = docLinkHtml;\n",
              "          element.appendChild(docLink);\n",
              "        }\n",
              "      </script>\n",
              "    </div>\n",
              "  </div>\n",
              "  "
            ]
          },
          "metadata": {},
          "execution_count": 21
        }
      ]
    },
    {
      "cell_type": "markdown",
      "source": [
        "**Limpeza dos dados**\n",
        "\n",
        "Consertar ou remover outliers. <br>\n",
        "Preencher os valores faltantes ou eliminar as linhas/colunas:\n",
        "* Zero\n",
        "* Média\n",
        "* Mediana\n",
        "* Frequência"
      ],
      "metadata": {
        "id": "qd2Z9eY3pjJM"
      }
    },
    {
      "cell_type": "code",
      "source": [
        "print(('Média: ', np.mean(df_clear)))"
      ],
      "metadata": {
        "colab": {
          "base_uri": "https://localhost:8080/"
        },
        "id": "vQmfUy3Kplol",
        "outputId": "53d71043-dece-48e4-8b30-9397e06b1083"
      },
      "execution_count": 22,
      "outputs": [
        {
          "output_type": "stream",
          "name": "stdout",
          "text": [
            "('Média: ', SeniorCitizen        0.162400\n",
            "tenure              32.421786\n",
            "MonthlyCharges      64.798208\n",
            "TotalCharges      2283.300441\n",
            "dtype: float64)\n"
          ]
        },
        {
          "output_type": "stream",
          "name": "stderr",
          "text": [
            "/usr/local/lib/python3.7/dist-packages/numpy/core/fromnumeric.py:3438: FutureWarning: Dropping of nuisance columns in DataFrame reductions (with 'numeric_only=None') is deprecated; in a future version this will raise TypeError.  Select only valid columns before calling the reduction.\n",
            "  return mean(axis=axis, dtype=dtype, out=out, **kwargs)\n"
          ]
        }
      ]
    },
    {
      "cell_type": "code",
      "source": [
        "print(('Desvio padrão: ', np.std(df_clear)))"
      ],
      "metadata": {
        "colab": {
          "base_uri": "https://localhost:8080/"
        },
        "id": "n2j68Y8b0paz",
        "outputId": "8c5ac69c-57ba-4653-e33d-f6712bb4f8c2"
      },
      "execution_count": 23,
      "outputs": [
        {
          "output_type": "stream",
          "name": "stdout",
          "text": [
            "('Desvio padrão: ', SeniorCitizen        0.368818\n",
            "tenure              24.543514\n",
            "MonthlyCharges      30.083835\n",
            "TotalCharges      2266.610181\n",
            "dtype: float64)\n"
          ]
        },
        {
          "output_type": "stream",
          "name": "stderr",
          "text": [
            "/usr/local/lib/python3.7/dist-packages/numpy/core/fromnumeric.py:3579: FutureWarning: Dropping of nuisance columns in DataFrame reductions (with 'numeric_only=None') is deprecated; in a future version this will raise TypeError.  Select only valid columns before calling the reduction.\n",
            "  return std(axis=axis, dtype=dtype, out=out, ddof=ddof, **kwargs)\n"
          ]
        }
      ]
    },
    {
      "cell_type": "markdown",
      "source": [
        "Como o coeficiente de variação analisa a dispersão em termos relativos, ele será dado em %. Quanto menor for o valor do coeficiente de variação, mais homogêneos serão os dados, ou seja, menor será a dispersão em torno da média. De uma forma geral, se o CV:\n",
        "\n",
        "* For menor ou igual a 15% → baixa dispersão: dados homogêneos\n",
        "* For entre 15 e 30% → média dispersão\n",
        "* For maior que 30% → alta dispersão: dados heterogêneos"
      ],
      "metadata": {
        "id": "Kb-WuTx73OIu"
      }
    },
    {
      "cell_type": "code",
      "source": [
        "print(('Coeficiente de variação: ', np.std(df_clear)/np.mean(df_clear) * 100))"
      ],
      "metadata": {
        "colab": {
          "base_uri": "https://localhost:8080/"
        },
        "id": "YPD6wQkr1CRS",
        "outputId": "9aad52d0-7ae9-4f45-a772-248c5df8379b"
      },
      "execution_count": 24,
      "outputs": [
        {
          "output_type": "stream",
          "name": "stdout",
          "text": [
            "('Coeficiente de variação: ', SeniorCitizen     227.103902\n",
            "tenure             75.700686\n",
            "MonthlyCharges     46.426954\n",
            "TotalCharges       99.269029\n",
            "dtype: float64)\n"
          ]
        },
        {
          "output_type": "stream",
          "name": "stderr",
          "text": [
            "/usr/local/lib/python3.7/dist-packages/numpy/core/fromnumeric.py:3579: FutureWarning: Dropping of nuisance columns in DataFrame reductions (with 'numeric_only=None') is deprecated; in a future version this will raise TypeError.  Select only valid columns before calling the reduction.\n",
            "  return std(axis=axis, dtype=dtype, out=out, ddof=ddof, **kwargs)\n",
            "/usr/local/lib/python3.7/dist-packages/numpy/core/fromnumeric.py:3438: FutureWarning: Dropping of nuisance columns in DataFrame reductions (with 'numeric_only=None') is deprecated; in a future version this will raise TypeError.  Select only valid columns before calling the reduction.\n",
            "  return mean(axis=axis, dtype=dtype, out=out, **kwargs)\n"
          ]
        }
      ]
    },
    {
      "cell_type": "code",
      "source": [
        "df_clear.hist()"
      ],
      "metadata": {
        "colab": {
          "base_uri": "https://localhost:8080/",
          "height": 368
        },
        "id": "G3zkZUnf3p0b",
        "outputId": "939cdee9-ccc4-4f37-b066-c3f9d0012180"
      },
      "execution_count": 25,
      "outputs": [
        {
          "output_type": "execute_result",
          "data": {
            "text/plain": [
              "array([[<matplotlib.axes._subplots.AxesSubplot object at 0x7f45c40706d0>,\n",
              "        <matplotlib.axes._subplots.AxesSubplot object at 0x7f45c3e890d0>],\n",
              "       [<matplotlib.axes._subplots.AxesSubplot object at 0x7f45c3eafb50>,\n",
              "        <matplotlib.axes._subplots.AxesSubplot object at 0x7f45b7331190>]],\n",
              "      dtype=object)"
            ]
          },
          "metadata": {},
          "execution_count": 25
        },
        {
          "output_type": "display_data",
          "data": {
            "text/plain": [
              "<Figure size 432x288 with 4 Axes>"
            ],
            "image/png": "[encoded data removed]"
          },
          "metadata": {
            "needs_background": "light"
          }
        }
      ]
    },
    {
      "cell_type": "markdown",
      "source": [
        "**Feature Engineering**\n",
        "\n",
        "é o processo de extrair recursos dos dados e transformá-los em um formato adequado ao modelo de aprendizado de máquina. Neste projeto, é necessário transformar variáveis ​​numéricas e categóricas. A maioria dos algoritmos de aprendizado de máquina requer valores numéricos. Sendo assim, todos os atributos categóricos disponíveis no conjunto de dados devem ser codificados em rótulos numéricos antes de treinar o modelo. Além disso, é necessário transformar colunas numéricas em uma escala comum, pois evitará que as colunas com maior valor dominem o processo de aprendizado. "
      ],
      "metadata": {
        "id": "PYFk6gWdTC6v"
      }
    },
    {
      "cell_type": "markdown",
      "source": [
        "A coluna `SeniorCitizen` não será modificada, pois já é uma coluna binária."
      ],
      "metadata": {
        "id": "5gXWeFbE0bzl"
      }
    },
    {
      "cell_type": "markdown",
      "source": [
        "**Transformação dos dados**\n",
        "\n",
        "Apenas coluna `SeniorCitizen` não será modificada, pois já é uma coluna binária.\n",
        "\n",
        "Para transformar os outros dados, será utulizada técnicas diferentes para cada conjunto de colunas. Sendo assim, as técnicas utilizadas no projeto em comento, serão:\n",
        "\n",
        "*   **Label Encoding**\n",
        "*   **One-Hot Encoding**\n",
        "<br>\n",
        "<br>\n",
        "\n",
        "**Label Encoding** <br>\n",
        "É utilizada para substituir valores categóricos por valores numéricos. Essa codificação substitui cada categoria por um rótulo numérico. No projeto em comento, será utilizada a codificação de rótulo com as seguintes variáveis ​​binárias: \n",
        "\n",
        "1. `gender`;\n",
        "2. `Partner`;\n",
        "3. `Dependents`;\n",
        "4. `PaperlessBilling`; \n",
        "5. `PhoneService`;\n",
        "6. `Churn`."
      ],
      "metadata": {
        "id": "RIOfRHVuzFG0"
      }
    },
    {
      "cell_type": "code",
      "source": [
        "df_transformed = df.copy()\n",
        "\n",
        "# label encoding (binary variables)\n",
        "label_encoding_columns = ['gender', 'Partner', 'Dependents', 'PaperlessBilling', 'PhoneService', 'Churn']\n",
        "\n",
        "# encode categorical binary features using label encoding\n",
        "for column in label_encoding_columns:\n",
        "    if column == 'gender':\n",
        "        df_transformed[column] = df_transformed[column].map({'Female': 1, 'Male': 0})\n",
        "    else: \n",
        "        df_transformed[column] = df_transformed[column].map({'Yes': 1, 'No': 0}) "
      ],
      "metadata": {
        "id": "IGVz0_sFzIuG"
      },
      "execution_count": 26,
      "outputs": []
    },
    {
      "cell_type": "code",
      "source": [
        "df_transformed.head()"
      ],
      "metadata": {
        "colab": {
          "base_uri": "https://localhost:8080/",
          "height": 322
        },
        "id": "34BdUsCmz9OW",
        "outputId": "1a45fba0-51b4-4d9d-8f56-5360e15dad04"
      },
      "execution_count": 27,
      "outputs": [
        {
          "output_type": "execute_result",
          "data": {
            "text/plain": [
              "   gender  SeniorCitizen  Partner  Dependents  tenure  PhoneService  \\\n",
              "0       1              0        1           0       1             0   \n",
              "1       0              0        0           0      34             1   \n",
              "2       0              0        0           0       2             1   \n",
              "3       0              0        0           0      45             0   \n",
              "4       1              0        0           0       2             1   \n",
              "\n",
              "      MultipleLines InternetService OnlineSecurity OnlineBackup  \\\n",
              "0  No phone service             DSL             No          Yes   \n",
              "1                No             DSL            Yes           No   \n",
              "2                No             DSL            Yes          Yes   \n",
              "3  No phone service             DSL            Yes           No   \n",
              "4                No     Fiber optic             No           No   \n",
              "\n",
              "  DeviceProtection TechSupport StreamingTV StreamingMovies        Contract  \\\n",
              "0               No          No          No              No  Month-to-month   \n",
              "1              Yes          No          No              No        One year   \n",
              "2               No          No          No              No  Month-to-month   \n",
              "3              Yes         Yes          No              No        One year   \n",
              "4               No          No          No              No  Month-to-month   \n",
              "\n",
              "   PaperlessBilling     PaymentMethod  MonthlyCharges  TotalCharges  Churn  \n",
              "0                 1  Electronic check           29.85         29.85      0  \n",
              "1                 0      Mailed check           56.95       1889.50      0  \n",
              "2                 1      Mailed check           53.85        108.15      1  \n",
              "3                 0     Bank transfer           42.30       1840.75      0  \n",
              "4                 1  Electronic check           70.70        151.65      1  "
            ],
            "text/html": [
              "\n",
              "  <div id=\"df-7284d1d8-3d45-4203-a06b-9ccd75cca8d8\">\n",
              "    <div class=\"colab-df-container\">\n",
              "      <div>\n",
              "<style scoped>\n",
              "    .dataframe tbody tr th:only-of-type {\n",
              "        vertical-align: middle;\n",
              "    }\n",
              "\n",
              "    .dataframe tbody tr th {\n",
              "        vertical-align: top;\n",
              "    }\n",
              "\n",
              "    .dataframe thead th {\n",
              "        text-align: right;\n",
              "    }\n",
              "</style>\n",
              "<table border=\"1\" class=\"dataframe\">\n",
              "  <thead>\n",
              "    <tr style=\"text-align: right;\">\n",
              "      <th></th>\n",
              "      <th>gender</th>\n",
              "      <th>SeniorCitizen</th>\n",
              "      <th>Partner</th>\n",
              "      <th>Dependents</th>\n",
              "      <th>tenure</th>\n",
              "      <th>PhoneService</th>\n",
              "      <th>MultipleLines</th>\n",
              "      <th>InternetService</th>\n",
              "      <th>OnlineSecurity</th>\n",
              "      <th>OnlineBackup</th>\n",
              "      <th>DeviceProtection</th>\n",
              "      <th>TechSupport</th>\n",
              "      <th>StreamingTV</th>\n",
              "      <th>StreamingMovies</th>\n",
              "      <th>Contract</th>\n",
              "      <th>PaperlessBilling</th>\n",
              "      <th>PaymentMethod</th>\n",
              "      <th>MonthlyCharges</th>\n",
              "      <th>TotalCharges</th>\n",
              "      <th>Churn</th>\n",
              "    </tr>\n",
              "  </thead>\n",
              "  <tbody>\n",
              "    <tr>\n",
              "      <th>0</th>\n",
              "      <td>1</td>\n",
              "      <td>0</td>\n",
              "      <td>1</td>\n",
              "      <td>0</td>\n",
              "      <td>1</td>\n",
              "      <td>0</td>\n",
              "      <td>No phone service</td>\n",
              "      <td>DSL</td>\n",
              "      <td>No</td>\n",
              "      <td>Yes</td>\n",
              "      <td>No</td>\n",
              "      <td>No</td>\n",
              "      <td>No</td>\n",
              "      <td>No</td>\n",
              "      <td>Month-to-month</td>\n",
              "      <td>1</td>\n",
              "      <td>Electronic check</td>\n",
              "      <td>29.85</td>\n",
              "      <td>29.85</td>\n",
              "      <td>0</td>\n",
              "    </tr>\n",
              "    <tr>\n",
              "      <th>1</th>\n",
              "      <td>0</td>\n",
              "      <td>0</td>\n",
              "      <td>0</td>\n",
              "      <td>0</td>\n",
              "      <td>34</td>\n",
              "      <td>1</td>\n",
              "      <td>No</td>\n",
              "      <td>DSL</td>\n",
              "      <td>Yes</td>\n",
              "      <td>No</td>\n",
              "      <td>Yes</td>\n",
              "      <td>No</td>\n",
              "      <td>No</td>\n",
              "      <td>No</td>\n",
              "      <td>One year</td>\n",
              "      <td>0</td>\n",
              "      <td>Mailed check</td>\n",
              "      <td>56.95</td>\n",
              "      <td>1889.50</td>\n",
              "      <td>0</td>\n",
              "    </tr>\n",
              "    <tr>\n",
              "      <th>2</th>\n",
              "      <td>0</td>\n",
              "      <td>0</td>\n",
              "      <td>0</td>\n",
              "      <td>0</td>\n",
              "      <td>2</td>\n",
              "      <td>1</td>\n",
              "      <td>No</td>\n",
              "      <td>DSL</td>\n",
              "      <td>Yes</td>\n",
              "      <td>Yes</td>\n",
              "      <td>No</td>\n",
              "      <td>No</td>\n",
              "      <td>No</td>\n",
              "      <td>No</td>\n",
              "      <td>Month-to-month</td>\n",
              "      <td>1</td>\n",
              "      <td>Mailed check</td>\n",
              "      <td>53.85</td>\n",
              "      <td>108.15</td>\n",
              "      <td>1</td>\n",
              "    </tr>\n",
              "    <tr>\n",
              "      <th>3</th>\n",
              "      <td>0</td>\n",
              "      <td>0</td>\n",
              "      <td>0</td>\n",
              "      <td>0</td>\n",
              "      <td>45</td>\n",
              "      <td>0</td>\n",
              "      <td>No phone service</td>\n",
              "      <td>DSL</td>\n",
              "      <td>Yes</td>\n",
              "      <td>No</td>\n",
              "      <td>Yes</td>\n",
              "      <td>Yes</td>\n",
              "      <td>No</td>\n",
              "      <td>No</td>\n",
              "      <td>One year</td>\n",
              "      <td>0</td>\n",
              "      <td>Bank transfer</td>\n",
              "      <td>42.30</td>\n",
              "      <td>1840.75</td>\n",
              "      <td>0</td>\n",
              "    </tr>\n",
              "    <tr>\n",
              "      <th>4</th>\n",
              "      <td>1</td>\n",
              "      <td>0</td>\n",
              "      <td>0</td>\n",
              "      <td>0</td>\n",
              "      <td>2</td>\n",
              "      <td>1</td>\n",
              "      <td>No</td>\n",
              "      <td>Fiber optic</td>\n",
              "      <td>No</td>\n",
              "      <td>No</td>\n",
              "      <td>No</td>\n",
              "      <td>No</td>\n",
              "      <td>No</td>\n",
              "      <td>No</td>\n",
              "      <td>Month-to-month</td>\n",
              "      <td>1</td>\n",
              "      <td>Electronic check</td>\n",
              "      <td>70.70</td>\n",
              "      <td>151.65</td>\n",
              "      <td>1</td>\n",
              "    </tr>\n",
              "  </tbody>\n",
              "</table>\n",
              "</div>\n",
              "      <button class=\"colab-df-convert\" onclick=\"convertToInteractive('df-7284d1d8-3d45-4203-a06b-9ccd75cca8d8')\"\n",
              "              title=\"Convert this dataframe to an interactive table.\"\n",
              "              style=\"display:none;\">\n",
              "        \n",
              "  <svg xmlns=\"http://www.w3.org/2000/svg\" height=\"24px\"viewBox=\"0 0 24 24\"\n",
              "       width=\"24px\">\n",
              "    <path d=\"M0 0h24v24H0V0z\" fill=\"none\"/>\n",
              "    <path d=\"M18.56 5.44l.94 2.06.94-2.06 2.06-.94-2.06-.94-.94-2.06-.94 2.06-2.06.94zm-11 1L8.5 8.5l.94-2.06 2.06-.94-2.06-.94L8.5 2.5l-.94 2.06-2.06.94zm10 10l.94 2.06.94-2.06 2.06-.94-2.06-.94-.94-2.06-.94 2.06-2.06.94z\"/><path d=\"M17.41 7.96l-1.37-1.37c-.4-.4-.92-.59-1.43-.59-.52 0-1.04.2-1.43.59L10.3 9.45l-7.72 7.72c-.78.78-.78 2.05 0 2.83L4 21.41c.39.39.9.59 1.41.59.51 0 1.02-.2 1.41-.59l7.78-7.78 2.81-2.81c.8-.78.8-2.07 0-2.86zM5.41 20L4 18.59l7.72-7.72 1.47 1.35L5.41 20z\"/>\n",
              "  </svg>\n",
              "      </button>\n",
              "      \n",
              "  <style>\n",
              "    .colab-df-container {\n",
              "      display:flex;\n",
              "      flex-wrap:wrap;\n",
              "      gap: 12px;\n",
              "    }\n",
              "\n",
              "    .colab-df-convert {\n",
              "      background-color: #E8F0FE;\n",
              "      border: none;\n",
              "      border-radius: 50%;\n",
              "      cursor: pointer;\n",
              "      display: none;\n",
              "      fill: #1967D2;\n",
              "      height: 32px;\n",
              "      padding: 0 0 0 0;\n",
              "      width: 32px;\n",
              "    }\n",
              "\n",
              "    .colab-df-convert:hover {\n",
              "      background-color: #E2EBFA;\n",
              "      box-shadow: 0px 1px 2px rgba(60, 64, 67, 0.3), 0px 1px 3px 1px rgba(60, 64, 67, 0.15);\n",
              "      fill: #174EA6;\n",
              "    }\n",
              "\n",
              "    [theme=dark] .colab-df-convert {\n",
              "      background-color: #3B4455;\n",
              "      fill: #D2E3FC;\n",
              "    }\n",
              "\n",
              "    [theme=dark] .colab-df-convert:hover {\n",
              "      background-color: #434B5C;\n",
              "      box-shadow: 0px 1px 3px 1px rgba(0, 0, 0, 0.15);\n",
              "      filter: drop-shadow(0px 1px 2px rgba(0, 0, 0, 0.3));\n",
              "      fill: #FFFFFF;\n",
              "    }\n",
              "  </style>\n",
              "\n",
              "      <script>\n",
              "        const buttonEl =\n",
              "          document.querySelector('#df-7284d1d8-3d45-4203-a06b-9ccd75cca8d8 button.colab-df-convert');\n",
              "        buttonEl.style.display =\n",
              "          google.colab.kernel.accessAllowed ? 'block' : 'none';\n",
              "\n",
              "        async function convertToInteractive(key) {\n",
              "          const element = document.querySelector('#df-7284d1d8-3d45-4203-a06b-9ccd75cca8d8');\n",
              "          const dataTable =\n",
              "            await google.colab.kernel.invokeFunction('convertToInteractive',\n",
              "                                                     [key], {});\n",
              "          if (!dataTable) return;\n",
              "\n",
              "          const docLinkHtml = 'Like what you see? Visit the ' +\n",
              "            '<a target=\"_blank\" href=https://colab.research.google.com/notebooks/data_table.ipynb>data table notebook</a>'\n",
              "            + ' to learn more about interactive tables.';\n",
              "          element.innerHTML = '';\n",
              "          dataTable['output_type'] = 'display_data';\n",
              "          await google.colab.output.renderOutput(dataTable, element);\n",
              "          const docLink = document.createElement('div');\n",
              "          docLink.innerHTML = docLinkHtml;\n",
              "          element.appendChild(docLink);\n",
              "        }\n",
              "      </script>\n",
              "    </div>\n",
              "  </div>\n",
              "  "
            ]
          },
          "metadata": {},
          "execution_count": 27
        }
      ]
    },
    {
      "cell_type": "markdown",
      "source": [
        "**One-Hot Encoding**<br>\n",
        "\n",
        "Cria uma nova coluna binária para cada nível da variável categórica. A nova coluna contém zeros e uns indicando a ausência ou presença da categoria nos dados. Neste projeto, será aplicada a *One-Hot Encoding* às seguintes variáveis categóricas: \n",
        "\n",
        "1. `Contract`;\n",
        "2. `PaymentMethod`;\n",
        "3. `MultipleLines`;\n",
        "4. `InternetServices`;\n",
        "5. `OnlineSecurity`;\n",
        "6. `OnlineBackup`; \n",
        "7. `DeviceProtection`; \n",
        "8. `TechSupport`; \n",
        "9. `StreamingTV`;\n",
        "10. `StreamingMovies`.\n",
        "\n"
      ],
      "metadata": {
        "id": "X-lTfmVu55lF"
      }
    },
    {
      "cell_type": "code",
      "source": [
        "# One-hot encoding (Variáveis categóricas com mais de dois níveis)\n",
        "one_hot_encoding_columns = ['MultipleLines', 'InternetService', 'OnlineSecurity', 'OnlineBackup', 'DeviceProtection', \n",
        "                            'TechSupport', 'StreamingTV',  'StreamingMovies', 'Contract', 'PaymentMethod']\n",
        "\n",
        "# Aplicar a técnica\n",
        "df_transformed = pd.get_dummies(df_transformed, columns = one_hot_encoding_columns)"
      ],
      "metadata": {
        "id": "s4YCE5ME9EEW"
      },
      "execution_count": 28,
      "outputs": []
    },
    {
      "cell_type": "code",
      "source": [
        "df_transformed.head()"
      ],
      "metadata": {
        "colab": {
          "base_uri": "https://localhost:8080/",
          "height": 317
        },
        "id": "j5hGgj1V9g3d",
        "outputId": "9d4abe7a-ab02-418e-f643-cb13cd22d04f"
      },
      "execution_count": 29,
      "outputs": [
        {
          "output_type": "execute_result",
          "data": {
            "text/plain": [
              "   gender  SeniorCitizen  Partner  Dependents  tenure  PhoneService  \\\n",
              "0       1              0        1           0       1             0   \n",
              "1       0              0        0           0      34             1   \n",
              "2       0              0        0           0       2             1   \n",
              "3       0              0        0           0      45             0   \n",
              "4       1              0        0           0       2             1   \n",
              "\n",
              "   PaperlessBilling  MonthlyCharges  TotalCharges  Churn  ...  \\\n",
              "0                 1           29.85         29.85      0  ...   \n",
              "1                 0           56.95       1889.50      0  ...   \n",
              "2                 1           53.85        108.15      1  ...   \n",
              "3                 0           42.30       1840.75      0  ...   \n",
              "4                 1           70.70        151.65      1  ...   \n",
              "\n",
              "   StreamingMovies_No  StreamingMovies_No internet service  \\\n",
              "0                   1                                    0   \n",
              "1                   1                                    0   \n",
              "2                   1                                    0   \n",
              "3                   1                                    0   \n",
              "4                   1                                    0   \n",
              "\n",
              "   StreamingMovies_Yes  Contract_Month-to-month  Contract_One year  \\\n",
              "0                    0                        1                  0   \n",
              "1                    0                        0                  1   \n",
              "2                    0                        1                  0   \n",
              "3                    0                        0                  1   \n",
              "4                    0                        1                  0   \n",
              "\n",
              "   Contract_Two year  PaymentMethod_Bank transfer  PaymentMethod_Credit card  \\\n",
              "0                  0                            0                          0   \n",
              "1                  0                            0                          0   \n",
              "2                  0                            0                          0   \n",
              "3                  0                            1                          0   \n",
              "4                  0                            0                          0   \n",
              "\n",
              "   PaymentMethod_Electronic check  PaymentMethod_Mailed check  \n",
              "0                               1                           0  \n",
              "1                               0                           1  \n",
              "2                               0                           1  \n",
              "3                               0                           0  \n",
              "4                               1                           0  \n",
              "\n",
              "[5 rows x 41 columns]"
            ],
            "text/html": [
              "\n",
              "  <div id=\"df-c0d72ec9-2c7b-4c66-9bb3-301314d30085\">\n",
              "    <div class=\"colab-df-container\">\n",
              "      <div>\n",
              "<style scoped>\n",
              "    .dataframe tbody tr th:only-of-type {\n",
              "        vertical-align: middle;\n",
              "    }\n",
              "\n",
              "    .dataframe tbody tr th {\n",
              "        vertical-align: top;\n",
              "    }\n",
              "\n",
              "    .dataframe thead th {\n",
              "        text-align: right;\n",
              "    }\n",
              "</style>\n",
              "<table border=\"1\" class=\"dataframe\">\n",
              "  <thead>\n",
              "    <tr style=\"text-align: right;\">\n",
              "      <th></th>\n",
              "      <th>gender</th>\n",
              "      <th>SeniorCitizen</th>\n",
              "      <th>Partner</th>\n",
              "      <th>Dependents</th>\n",
              "      <th>tenure</th>\n",
              "      <th>PhoneService</th>\n",
              "      <th>PaperlessBilling</th>\n",
              "      <th>MonthlyCharges</th>\n",
              "      <th>TotalCharges</th>\n",
              "      <th>Churn</th>\n",
              "      <th>...</th>\n",
              "      <th>StreamingMovies_No</th>\n",
              "      <th>StreamingMovies_No internet service</th>\n",
              "      <th>StreamingMovies_Yes</th>\n",
              "      <th>Contract_Month-to-month</th>\n",
              "      <th>Contract_One year</th>\n",
              "      <th>Contract_Two year</th>\n",
              "      <th>PaymentMethod_Bank transfer</th>\n",
              "      <th>PaymentMethod_Credit card</th>\n",
              "      <th>PaymentMethod_Electronic check</th>\n",
              "      <th>PaymentMethod_Mailed check</th>\n",
              "    </tr>\n",
              "  </thead>\n",
              "  <tbody>\n",
              "    <tr>\n",
              "      <th>0</th>\n",
              "      <td>1</td>\n",
              "      <td>0</td>\n",
              "      <td>1</td>\n",
              "      <td>0</td>\n",
              "      <td>1</td>\n",
              "      <td>0</td>\n",
              "      <td>1</td>\n",
              "      <td>29.85</td>\n",
              "      <td>29.85</td>\n",
              "      <td>0</td>\n",
              "      <td>...</td>\n",
              "      <td>1</td>\n",
              "      <td>0</td>\n",
              "      <td>0</td>\n",
              "      <td>1</td>\n",
              "      <td>0</td>\n",
              "      <td>0</td>\n",
              "      <td>0</td>\n",
              "      <td>0</td>\n",
              "      <td>1</td>\n",
              "      <td>0</td>\n",
              "    </tr>\n",
              "    <tr>\n",
              "      <th>1</th>\n",
              "      <td>0</td>\n",
              "      <td>0</td>\n",
              "      <td>0</td>\n",
              "      <td>0</td>\n",
              "      <td>34</td>\n",
              "      <td>1</td>\n",
              "      <td>0</td>\n",
              "      <td>56.95</td>\n",
              "      <td>1889.50</td>\n",
              "      <td>0</td>\n",
              "      <td>...</td>\n",
              "      <td>1</td>\n",
              "      <td>0</td>\n",
              "      <td>0</td>\n",
              "      <td>0</td>\n",
              "      <td>1</td>\n",
              "      <td>0</td>\n",
              "      <td>0</td>\n",
              "      <td>0</td>\n",
              "      <td>0</td>\n",
              "      <td>1</td>\n",
              "    </tr>\n",
              "    <tr>\n",
              "      <th>2</th>\n",
              "      <td>0</td>\n",
              "      <td>0</td>\n",
              "      <td>0</td>\n",
              "      <td>0</td>\n",
              "      <td>2</td>\n",
              "      <td>1</td>\n",
              "      <td>1</td>\n",
              "      <td>53.85</td>\n",
              "      <td>108.15</td>\n",
              "      <td>1</td>\n",
              "      <td>...</td>\n",
              "      <td>1</td>\n",
              "      <td>0</td>\n",
              "      <td>0</td>\n",
              "      <td>1</td>\n",
              "      <td>0</td>\n",
              "      <td>0</td>\n",
              "      <td>0</td>\n",
              "      <td>0</td>\n",
              "      <td>0</td>\n",
              "      <td>1</td>\n",
              "    </tr>\n",
              "    <tr>\n",
              "      <th>3</th>\n",
              "      <td>0</td>\n",
              "      <td>0</td>\n",
              "      <td>0</td>\n",
              "      <td>0</td>\n",
              "      <td>45</td>\n",
              "      <td>0</td>\n",
              "      <td>0</td>\n",
              "      <td>42.30</td>\n",
              "      <td>1840.75</td>\n",
              "      <td>0</td>\n",
              "      <td>...</td>\n",
              "      <td>1</td>\n",
              "      <td>0</td>\n",
              "      <td>0</td>\n",
              "      <td>0</td>\n",
              "      <td>1</td>\n",
              "      <td>0</td>\n",
              "      <td>1</td>\n",
              "      <td>0</td>\n",
              "      <td>0</td>\n",
              "      <td>0</td>\n",
              "    </tr>\n",
              "    <tr>\n",
              "      <th>4</th>\n",
              "      <td>1</td>\n",
              "      <td>0</td>\n",
              "      <td>0</td>\n",
              "      <td>0</td>\n",
              "      <td>2</td>\n",
              "      <td>1</td>\n",
              "      <td>1</td>\n",
              "      <td>70.70</td>\n",
              "      <td>151.65</td>\n",
              "      <td>1</td>\n",
              "      <td>...</td>\n",
              "      <td>1</td>\n",
              "      <td>0</td>\n",
              "      <td>0</td>\n",
              "      <td>1</td>\n",
              "      <td>0</td>\n",
              "      <td>0</td>\n",
              "      <td>0</td>\n",
              "      <td>0</td>\n",
              "      <td>1</td>\n",
              "      <td>0</td>\n",
              "    </tr>\n",
              "  </tbody>\n",
              "</table>\n",
              "<p>5 rows × 41 columns</p>\n",
              "</div>\n",
              "      <button class=\"colab-df-convert\" onclick=\"convertToInteractive('df-c0d72ec9-2c7b-4c66-9bb3-301314d30085')\"\n",
              "              title=\"Convert this dataframe to an interactive table.\"\n",
              "              style=\"display:none;\">\n",
              "        \n",
              "  <svg xmlns=\"http://www.w3.org/2000/svg\" height=\"24px\"viewBox=\"0 0 24 24\"\n",
              "       width=\"24px\">\n",
              "    <path d=\"M0 0h24v24H0V0z\" fill=\"none\"/>\n",
              "    <path d=\"M18.56 5.44l.94 2.06.94-2.06 2.06-.94-2.06-.94-.94-2.06-.94 2.06-2.06.94zm-11 1L8.5 8.5l.94-2.06 2.06-.94-2.06-.94L8.5 2.5l-.94 2.06-2.06.94zm10 10l.94 2.06.94-2.06 2.06-.94-2.06-.94-.94-2.06-.94 2.06-2.06.94z\"/><path d=\"M17.41 7.96l-1.37-1.37c-.4-.4-.92-.59-1.43-.59-.52 0-1.04.2-1.43.59L10.3 9.45l-7.72 7.72c-.78.78-.78 2.05 0 2.83L4 21.41c.39.39.9.59 1.41.59.51 0 1.02-.2 1.41-.59l7.78-7.78 2.81-2.81c.8-.78.8-2.07 0-2.86zM5.41 20L4 18.59l7.72-7.72 1.47 1.35L5.41 20z\"/>\n",
              "  </svg>\n",
              "      </button>\n",
              "      \n",
              "  <style>\n",
              "    .colab-df-container {\n",
              "      display:flex;\n",
              "      flex-wrap:wrap;\n",
              "      gap: 12px;\n",
              "    }\n",
              "\n",
              "    .colab-df-convert {\n",
              "      background-color: #E8F0FE;\n",
              "      border: none;\n",
              "      border-radius: 50%;\n",
              "      cursor: pointer;\n",
              "      display: none;\n",
              "      fill: #1967D2;\n",
              "      height: 32px;\n",
              "      padding: 0 0 0 0;\n",
              "      width: 32px;\n",
              "    }\n",
              "\n",
              "    .colab-df-convert:hover {\n",
              "      background-color: #E2EBFA;\n",
              "      box-shadow: 0px 1px 2px rgba(60, 64, 67, 0.3), 0px 1px 3px 1px rgba(60, 64, 67, 0.15);\n",
              "      fill: #174EA6;\n",
              "    }\n",
              "\n",
              "    [theme=dark] .colab-df-convert {\n",
              "      background-color: #3B4455;\n",
              "      fill: #D2E3FC;\n",
              "    }\n",
              "\n",
              "    [theme=dark] .colab-df-convert:hover {\n",
              "      background-color: #434B5C;\n",
              "      box-shadow: 0px 1px 3px 1px rgba(0, 0, 0, 0.15);\n",
              "      filter: drop-shadow(0px 1px 2px rgba(0, 0, 0, 0.3));\n",
              "      fill: #FFFFFF;\n",
              "    }\n",
              "  </style>\n",
              "\n",
              "      <script>\n",
              "        const buttonEl =\n",
              "          document.querySelector('#df-c0d72ec9-2c7b-4c66-9bb3-301314d30085 button.colab-df-convert');\n",
              "        buttonEl.style.display =\n",
              "          google.colab.kernel.accessAllowed ? 'block' : 'none';\n",
              "\n",
              "        async function convertToInteractive(key) {\n",
              "          const element = document.querySelector('#df-c0d72ec9-2c7b-4c66-9bb3-301314d30085');\n",
              "          const dataTable =\n",
              "            await google.colab.kernel.invokeFunction('convertToInteractive',\n",
              "                                                     [key], {});\n",
              "          if (!dataTable) return;\n",
              "\n",
              "          const docLinkHtml = 'Like what you see? Visit the ' +\n",
              "            '<a target=\"_blank\" href=https://colab.research.google.com/notebooks/data_table.ipynb>data table notebook</a>'\n",
              "            + ' to learn more about interactive tables.';\n",
              "          element.innerHTML = '';\n",
              "          dataTable['output_type'] = 'display_data';\n",
              "          await google.colab.output.renderOutput(dataTable, element);\n",
              "          const docLink = document.createElement('div');\n",
              "          docLink.innerHTML = docLinkHtml;\n",
              "          element.appendChild(docLink);\n",
              "        }\n",
              "      </script>\n",
              "    </div>\n",
              "  </div>\n",
              "  "
            ]
          },
          "metadata": {},
          "execution_count": 29
        }
      ]
    },
    {
      "cell_type": "markdown",
      "source": [
        "**Obs:** É possível perceber o aumento significativo do conjunto de dados. A principal desvantagem desse método é a ampliação na dimensionalidade do conjunto de dados. Sendo assim, o método deve ser evitado quando a coluna categórica possuir um grande número de valores exclusivos."
      ],
      "metadata": {
        "id": "-vvkE-_f91sL"
      }
    },
    {
      "cell_type": "markdown",
      "source": [
        "Muitos algoritmos de aprendizado de máquina funcionam melhor quando os recursos estão em uma escala relativamente semelhante e próximos da distribuição normal. *MinMaxScaler*, *RobustScaler*, *StandardScaler* e *Normalizer* são métodos da biblioteca `scikit-learn` para pré-processar dados para *machine learning*.\n",
        "\n",
        "<br>\n",
        "\n",
        "***Normalization***\n",
        "\n",
        "A normalização de dados é uma prática comum em aprendizado de máquina que consiste em transformar colunas numéricas em uma escala comum. Em *machine learning*, alguns valores de recursos diferem de outros várias vezes. As características com valores mais altos dominarão o processo de aprendizagem, no entanto isso não significa que essas variáveis ​​sejam mais importantes para prever o alvo. \n",
        "\n",
        "Ela transforma dados multiescala para mesma escala. Após a normalização, todas as variáveis ​​têm influência semelhante no modelo, ou seja, melhora a estabilidade e o desempenho do algoritmo de aprendizado.\n",
        "\n",
        "Existem várias técnicas de normalização em estatística. No projeto em comento, será utilizado o método **min-max** para redimensionar as colunas numéricas (`tenure`, `MontlyCharges` e `TotalCharges`) para uma escala comum. \n",
        "\n",
        "A abordagem **min-max** (também conhecida como normalização) redimensiona o recurso para um intervalo fixo de \\[ 0, 1 \\], subtraindo o valor mínimo do recurso e, em seguida, dividindo pelo intervalo."
      ],
      "metadata": {
        "id": "acATmIsTB6nB"
      }
    },
    {
      "cell_type": "code",
      "source": [
        "df_transformed['tenure'].plot(kind='bar')"
      ],
      "metadata": {
        "colab": {
          "base_uri": "https://localhost:8080/",
          "height": 298
        },
        "id": "R9iLY6g7MD6Q",
        "outputId": "934a17d1-9d56-4aae-bade-ce63e91ebb29"
      },
      "execution_count": 30,
      "outputs": [
        {
          "output_type": "execute_result",
          "data": {
            "text/plain": [
              "<matplotlib.axes._subplots.AxesSubplot at 0x7f45b6545810>"
            ]
          },
          "metadata": {},
          "execution_count": 30
        },
        {
          "output_type": "display_data",
          "data": {
            "text/plain": [
              "<Figure size 432x288 with 1 Axes>"
            ],
            "image/png": "[encoded data removed]"
          },
          "metadata": {
            "needs_background": "light"
          }
        }
      ]
    },
    {
      "cell_type": "code",
      "source": [
        "# Min-max normalization (Variáveis numéricas)\n",
        "min_max_columns = ['tenure', 'MonthlyCharges', 'TotalCharges']\n",
        "\n",
        "# Dimensionar variáveis numéricas utilizando min-max scaler\n",
        "for column in min_max_columns:\n",
        "        # minimum value of the column\n",
        "        min_column = df_transformed[column].min()\n",
        "        # maximum value of the column\n",
        "        max_column = df_transformed[column].max()\n",
        "        # min max scaler\n",
        "        df_transformed[column] = (df_transformed[column] - min_column) / (max_column - min_column)   "
      ],
      "metadata": {
        "id": "8FH4bM-FDxBW"
      },
      "execution_count": 31,
      "outputs": []
    },
    {
      "cell_type": "code",
      "source": [
        "df_transformed['tenure'].plot(kind='bar')"
      ],
      "metadata": {
        "colab": {
          "base_uri": "https://localhost:8080/",
          "height": 298
        },
        "id": "hGUVDECGMesY",
        "outputId": "61a73a83-dc21-4e6a-b875-7c6b5c420154"
      },
      "execution_count": 32,
      "outputs": [
        {
          "output_type": "execute_result",
          "data": {
            "text/plain": [
              "<matplotlib.axes._subplots.AxesSubplot at 0x7f45b1be0b50>"
            ]
          },
          "metadata": {},
          "execution_count": 32
        },
        {
          "output_type": "display_data",
          "data": {
            "text/plain": [
              "<Figure size 432x288 with 1 Axes>"
            ],
            "image/png": "[encoded data removed]"
          },
          "metadata": {
            "needs_background": "light"
          }
        }
      ]
    },
    {
      "cell_type": "markdown",
      "source": [
        "É possível perceber a mudança que houve nos dados antes e depois da aplicação do método de normalização."
      ],
      "metadata": {
        "id": "RkCZwvZ2NDHV"
      }
    },
    {
      "cell_type": "code",
      "source": [
        "df_transformed.head()"
      ],
      "metadata": {
        "colab": {
          "base_uri": "https://localhost:8080/",
          "height": 317
        },
        "id": "KpuHzMf5EVvl",
        "outputId": "92b387fa-288e-4c54-a160-aaa9766875ee"
      },
      "execution_count": 33,
      "outputs": [
        {
          "output_type": "execute_result",
          "data": {
            "text/plain": [
              "   gender  SeniorCitizen  Partner  Dependents    tenure  PhoneService  \\\n",
              "0       1              0        1           0  0.000000             0   \n",
              "1       0              0        0           0  0.464789             1   \n",
              "2       0              0        0           0  0.014085             1   \n",
              "3       0              0        0           0  0.619718             0   \n",
              "4       1              0        0           0  0.014085             1   \n",
              "\n",
              "   PaperlessBilling  MonthlyCharges  TotalCharges  Churn  ...  \\\n",
              "0                 1        0.115423      0.001275      0  ...   \n",
              "1                 0        0.385075      0.215867      0  ...   \n",
              "2                 1        0.354229      0.010310      1  ...   \n",
              "3                 0        0.239303      0.210241      0  ...   \n",
              "4                 1        0.521891      0.015330      1  ...   \n",
              "\n",
              "   StreamingMovies_No  StreamingMovies_No internet service  \\\n",
              "0                   1                                    0   \n",
              "1                   1                                    0   \n",
              "2                   1                                    0   \n",
              "3                   1                                    0   \n",
              "4                   1                                    0   \n",
              "\n",
              "   StreamingMovies_Yes  Contract_Month-to-month  Contract_One year  \\\n",
              "0                    0                        1                  0   \n",
              "1                    0                        0                  1   \n",
              "2                    0                        1                  0   \n",
              "3                    0                        0                  1   \n",
              "4                    0                        1                  0   \n",
              "\n",
              "   Contract_Two year  PaymentMethod_Bank transfer  PaymentMethod_Credit card  \\\n",
              "0                  0                            0                          0   \n",
              "1                  0                            0                          0   \n",
              "2                  0                            0                          0   \n",
              "3                  0                            1                          0   \n",
              "4                  0                            0                          0   \n",
              "\n",
              "   PaymentMethod_Electronic check  PaymentMethod_Mailed check  \n",
              "0                               1                           0  \n",
              "1                               0                           1  \n",
              "2                               0                           1  \n",
              "3                               0                           0  \n",
              "4                               1                           0  \n",
              "\n",
              "[5 rows x 41 columns]"
            ],
            "text/html": [
              "\n",
              "  <div id=\"df-f74d6cfd-66a6-4fd6-a4d1-cf7b68db02bf\">\n",
              "    <div class=\"colab-df-container\">\n",
              "      <div>\n",
              "<style scoped>\n",
              "    .dataframe tbody tr th:only-of-type {\n",
              "        vertical-align: middle;\n",
              "    }\n",
              "\n",
              "    .dataframe tbody tr th {\n",
              "        vertical-align: top;\n",
              "    }\n",
              "\n",
              "    .dataframe thead th {\n",
              "        text-align: right;\n",
              "    }\n",
              "</style>\n",
              "<table border=\"1\" class=\"dataframe\">\n",
              "  <thead>\n",
              "    <tr style=\"text-align: right;\">\n",
              "      <th></th>\n",
              "      <th>gender</th>\n",
              "      <th>SeniorCitizen</th>\n",
              "      <th>Partner</th>\n",
              "      <th>Dependents</th>\n",
              "      <th>tenure</th>\n",
              "      <th>PhoneService</th>\n",
              "      <th>PaperlessBilling</th>\n",
              "      <th>MonthlyCharges</th>\n",
              "      <th>TotalCharges</th>\n",
              "      <th>Churn</th>\n",
              "      <th>...</th>\n",
              "      <th>StreamingMovies_No</th>\n",
              "      <th>StreamingMovies_No internet service</th>\n",
              "      <th>StreamingMovies_Yes</th>\n",
              "      <th>Contract_Month-to-month</th>\n",
              "      <th>Contract_One year</th>\n",
              "      <th>Contract_Two year</th>\n",
              "      <th>PaymentMethod_Bank transfer</th>\n",
              "      <th>PaymentMethod_Credit card</th>\n",
              "      <th>PaymentMethod_Electronic check</th>\n",
              "      <th>PaymentMethod_Mailed check</th>\n",
              "    </tr>\n",
              "  </thead>\n",
              "  <tbody>\n",
              "    <tr>\n",
              "      <th>0</th>\n",
              "      <td>1</td>\n",
              "      <td>0</td>\n",
              "      <td>1</td>\n",
              "      <td>0</td>\n",
              "      <td>0.000000</td>\n",
              "      <td>0</td>\n",
              "      <td>1</td>\n",
              "      <td>0.115423</td>\n",
              "      <td>0.001275</td>\n",
              "      <td>0</td>\n",
              "      <td>...</td>\n",
              "      <td>1</td>\n",
              "      <td>0</td>\n",
              "      <td>0</td>\n",
              "      <td>1</td>\n",
              "      <td>0</td>\n",
              "      <td>0</td>\n",
              "      <td>0</td>\n",
              "      <td>0</td>\n",
              "      <td>1</td>\n",
              "      <td>0</td>\n",
              "    </tr>\n",
              "    <tr>\n",
              "      <th>1</th>\n",
              "      <td>0</td>\n",
              "      <td>0</td>\n",
              "      <td>0</td>\n",
              "      <td>0</td>\n",
              "      <td>0.464789</td>\n",
              "      <td>1</td>\n",
              "      <td>0</td>\n",
              "      <td>0.385075</td>\n",
              "      <td>0.215867</td>\n",
              "      <td>0</td>\n",
              "      <td>...</td>\n",
              "      <td>1</td>\n",
              "      <td>0</td>\n",
              "      <td>0</td>\n",
              "      <td>0</td>\n",
              "      <td>1</td>\n",
              "      <td>0</td>\n",
              "      <td>0</td>\n",
              "      <td>0</td>\n",
              "      <td>0</td>\n",
              "      <td>1</td>\n",
              "    </tr>\n",
              "    <tr>\n",
              "      <th>2</th>\n",
              "      <td>0</td>\n",
              "      <td>0</td>\n",
              "      <td>0</td>\n",
              "      <td>0</td>\n",
              "      <td>0.014085</td>\n",
              "      <td>1</td>\n",
              "      <td>1</td>\n",
              "      <td>0.354229</td>\n",
              "      <td>0.010310</td>\n",
              "      <td>1</td>\n",
              "      <td>...</td>\n",
              "      <td>1</td>\n",
              "      <td>0</td>\n",
              "      <td>0</td>\n",
              "      <td>1</td>\n",
              "      <td>0</td>\n",
              "      <td>0</td>\n",
              "      <td>0</td>\n",
              "      <td>0</td>\n",
              "      <td>0</td>\n",
              "      <td>1</td>\n",
              "    </tr>\n",
              "    <tr>\n",
              "      <th>3</th>\n",
              "      <td>0</td>\n",
              "      <td>0</td>\n",
              "      <td>0</td>\n",
              "      <td>0</td>\n",
              "      <td>0.619718</td>\n",
              "      <td>0</td>\n",
              "      <td>0</td>\n",
              "      <td>0.239303</td>\n",
              "      <td>0.210241</td>\n",
              "      <td>0</td>\n",
              "      <td>...</td>\n",
              "      <td>1</td>\n",
              "      <td>0</td>\n",
              "      <td>0</td>\n",
              "      <td>0</td>\n",
              "      <td>1</td>\n",
              "      <td>0</td>\n",
              "      <td>1</td>\n",
              "      <td>0</td>\n",
              "      <td>0</td>\n",
              "      <td>0</td>\n",
              "    </tr>\n",
              "    <tr>\n",
              "      <th>4</th>\n",
              "      <td>1</td>\n",
              "      <td>0</td>\n",
              "      <td>0</td>\n",
              "      <td>0</td>\n",
              "      <td>0.014085</td>\n",
              "      <td>1</td>\n",
              "      <td>1</td>\n",
              "      <td>0.521891</td>\n",
              "      <td>0.015330</td>\n",
              "      <td>1</td>\n",
              "      <td>...</td>\n",
              "      <td>1</td>\n",
              "      <td>0</td>\n",
              "      <td>0</td>\n",
              "      <td>1</td>\n",
              "      <td>0</td>\n",
              "      <td>0</td>\n",
              "      <td>0</td>\n",
              "      <td>0</td>\n",
              "      <td>1</td>\n",
              "      <td>0</td>\n",
              "    </tr>\n",
              "  </tbody>\n",
              "</table>\n",
              "<p>5 rows × 41 columns</p>\n",
              "</div>\n",
              "      <button class=\"colab-df-convert\" onclick=\"convertToInteractive('df-f74d6cfd-66a6-4fd6-a4d1-cf7b68db02bf')\"\n",
              "              title=\"Convert this dataframe to an interactive table.\"\n",
              "              style=\"display:none;\">\n",
              "        \n",
              "  <svg xmlns=\"http://www.w3.org/2000/svg\" height=\"24px\"viewBox=\"0 0 24 24\"\n",
              "       width=\"24px\">\n",
              "    <path d=\"M0 0h24v24H0V0z\" fill=\"none\"/>\n",
              "    <path d=\"M18.56 5.44l.94 2.06.94-2.06 2.06-.94-2.06-.94-.94-2.06-.94 2.06-2.06.94zm-11 1L8.5 8.5l.94-2.06 2.06-.94-2.06-.94L8.5 2.5l-.94 2.06-2.06.94zm10 10l.94 2.06.94-2.06 2.06-.94-2.06-.94-.94-2.06-.94 2.06-2.06.94z\"/><path d=\"M17.41 7.96l-1.37-1.37c-.4-.4-.92-.59-1.43-.59-.52 0-1.04.2-1.43.59L10.3 9.45l-7.72 7.72c-.78.78-.78 2.05 0 2.83L4 21.41c.39.39.9.59 1.41.59.51 0 1.02-.2 1.41-.59l7.78-7.78 2.81-2.81c.8-.78.8-2.07 0-2.86zM5.41 20L4 18.59l7.72-7.72 1.47 1.35L5.41 20z\"/>\n",
              "  </svg>\n",
              "      </button>\n",
              "      \n",
              "  <style>\n",
              "    .colab-df-container {\n",
              "      display:flex;\n",
              "      flex-wrap:wrap;\n",
              "      gap: 12px;\n",
              "    }\n",
              "\n",
              "    .colab-df-convert {\n",
              "      background-color: #E8F0FE;\n",
              "      border: none;\n",
              "      border-radius: 50%;\n",
              "      cursor: pointer;\n",
              "      display: none;\n",
              "      fill: #1967D2;\n",
              "      height: 32px;\n",
              "      padding: 0 0 0 0;\n",
              "      width: 32px;\n",
              "    }\n",
              "\n",
              "    .colab-df-convert:hover {\n",
              "      background-color: #E2EBFA;\n",
              "      box-shadow: 0px 1px 2px rgba(60, 64, 67, 0.3), 0px 1px 3px 1px rgba(60, 64, 67, 0.15);\n",
              "      fill: #174EA6;\n",
              "    }\n",
              "\n",
              "    [theme=dark] .colab-df-convert {\n",
              "      background-color: #3B4455;\n",
              "      fill: #D2E3FC;\n",
              "    }\n",
              "\n",
              "    [theme=dark] .colab-df-convert:hover {\n",
              "      background-color: #434B5C;\n",
              "      box-shadow: 0px 1px 3px 1px rgba(0, 0, 0, 0.15);\n",
              "      filter: drop-shadow(0px 1px 2px rgba(0, 0, 0, 0.3));\n",
              "      fill: #FFFFFF;\n",
              "    }\n",
              "  </style>\n",
              "\n",
              "      <script>\n",
              "        const buttonEl =\n",
              "          document.querySelector('#df-f74d6cfd-66a6-4fd6-a4d1-cf7b68db02bf button.colab-df-convert');\n",
              "        buttonEl.style.display =\n",
              "          google.colab.kernel.accessAllowed ? 'block' : 'none';\n",
              "\n",
              "        async function convertToInteractive(key) {\n",
              "          const element = document.querySelector('#df-f74d6cfd-66a6-4fd6-a4d1-cf7b68db02bf');\n",
              "          const dataTable =\n",
              "            await google.colab.kernel.invokeFunction('convertToInteractive',\n",
              "                                                     [key], {});\n",
              "          if (!dataTable) return;\n",
              "\n",
              "          const docLinkHtml = 'Like what you see? Visit the ' +\n",
              "            '<a target=\"_blank\" href=https://colab.research.google.com/notebooks/data_table.ipynb>data table notebook</a>'\n",
              "            + ' to learn more about interactive tables.';\n",
              "          element.innerHTML = '';\n",
              "          dataTable['output_type'] = 'display_data';\n",
              "          await google.colab.output.renderOutput(dataTable, element);\n",
              "          const docLink = document.createElement('div');\n",
              "          docLink.innerHTML = docLinkHtml;\n",
              "          element.appendChild(docLink);\n",
              "        }\n",
              "      </script>\n",
              "    </div>\n",
              "  </div>\n",
              "  "
            ]
          },
          "metadata": {},
          "execution_count": 33
        }
      ]
    },
    {
      "cell_type": "markdown",
      "source": [
        "**Definir a baseline**\n",
        "\n",
        "Em machine learning, geralmente é utilizado um classificador simples chamado **baseline** para avaliar o desempenho de um modelo. No problema de classificação, a taxa de clientes que não se desligaram, pode ser utilizada como **baseline** para avaliar a qualidade dos modelos gerados. \n",
        "\n",
        "Esses modelos devem superar os recursos de baseline a serem considerados para previsões futuras."
      ],
      "metadata": {
        "id": "9ZfZ5xAUNVye"
      }
    },
    {
      "cell_type": "markdown",
      "source": [
        "**Dividir os dados em conjuntos de treino e teste**\n",
        "\n",
        "Os dados serão divididos da seguinte forma:\n",
        "\n",
        "\n",
        "\n",
        "*   75% para treino;\n",
        "*   25% para teste.\n",
        "\n",
        "A coluna `Churn` será a veriável alvo.\n",
        "\n"
      ],
      "metadata": {
        "id": "z7mSUHMRQzx8"
      }
    },
    {
      "cell_type": "code",
      "source": [
        "# Definir X (Variáveis independentes)\n",
        "X = df_transformed.drop(columns='Churn')\n",
        "\n",
        "#Definir y (Variáveis dependentes)\n",
        "y = df_transformed['Churn']\n"
      ],
      "metadata": {
        "id": "_0CtxvpeROM4"
      },
      "execution_count": 34,
      "outputs": []
    },
    {
      "cell_type": "code",
      "source": [
        "# Mostrar se X está correto.\n",
        "print(X.columns)\n",
        "\n",
        "# Mostrar se y está correto.\n",
        "print(y.name)"
      ],
      "metadata": {
        "colab": {
          "base_uri": "https://localhost:8080/"
        },
        "id": "oQIg0q55RLwO",
        "outputId": "44fe28e2-8fc4-471f-ef00-b13301ee4552"
      },
      "execution_count": 35,
      "outputs": [
        {
          "output_type": "stream",
          "name": "stdout",
          "text": [
            "Index(['gender', 'SeniorCitizen', 'Partner', 'Dependents', 'tenure',\n",
            "       'PhoneService', 'PaperlessBilling', 'MonthlyCharges', 'TotalCharges',\n",
            "       'MultipleLines_No', 'MultipleLines_No phone service',\n",
            "       'MultipleLines_Yes', 'InternetService_DSL',\n",
            "       'InternetService_Fiber optic', 'InternetService_No',\n",
            "       'OnlineSecurity_No', 'OnlineSecurity_No internet service',\n",
            "       'OnlineSecurity_Yes', 'OnlineBackup_No',\n",
            "       'OnlineBackup_No internet service', 'OnlineBackup_Yes',\n",
            "       'DeviceProtection_No', 'DeviceProtection_No internet service',\n",
            "       'DeviceProtection_Yes', 'TechSupport_No',\n",
            "       'TechSupport_No internet service', 'TechSupport_Yes', 'StreamingTV_No',\n",
            "       'StreamingTV_No internet service', 'StreamingTV_Yes',\n",
            "       'StreamingMovies_No', 'StreamingMovies_No internet service',\n",
            "       'StreamingMovies_Yes', 'Contract_Month-to-month', 'Contract_One year',\n",
            "       'Contract_Two year', 'PaymentMethod_Bank transfer',\n",
            "       'PaymentMethod_Credit card', 'PaymentMethod_Electronic check',\n",
            "       'PaymentMethod_Mailed check'],\n",
            "      dtype='object')\n",
            "Churn\n"
          ]
        }
      ]
    },
    {
      "cell_type": "markdown",
      "source": [
        "Aplicar a função `train_test_split` da biblioteca `sklearn.model_selection` para criar o conjunto de treino e teste."
      ],
      "metadata": {
        "id": "crwqBdqxSbg_"
      }
    },
    {
      "cell_type": "code",
      "source": [
        "# 1. Importar a biblioteca\n",
        "from sklearn.model_selection import train_test_split\n",
        "\n",
        "# 2. Dividir os dados em conjuntos de treinamento e teste\n",
        "X_train, X_test, y_train, y_test = train_test_split(X, y, test_size=0.25, random_state=40, shuffle=True)"
      ],
      "metadata": {
        "id": "7iTa51ehSzQx"
      },
      "execution_count": 36,
      "outputs": []
    },
    {
      "cell_type": "markdown",
      "source": [
        "**Avaliar vários algoritmos**\n",
        "\n",
        "Selecionar o algoritmo que melhor se encaixa no problema em comento, pois não existe um algoritmo que seja o melhor em todos os projetos. É importante lembra que é necessário avaliar um conjunto de potenciais candidatos e selecionar o que apresenta melhor desempenho.\n",
        "\n",
        "Neste projeto, serão comparados 6 algoritmos diferentes, todos já implementados no Scikit-Learn:\n",
        "\n",
        "\n",
        "\n",
        "* Dummy classifier (baseline)\n",
        "* KNN\n",
        "* Logistic Regression\n",
        "* SVM\n",
        "* Random Forest\n",
        "* Gradiente Boosting\n",
        "\n"
      ],
      "metadata": {
        "id": "8Ot0j8PATrqu"
      }
    },
    {
      "cell_type": "code",
      "source": [
        "# 1. Importar as bibliotecas necessárias\n",
        "from sklearn.dummy import DummyClassifier\n",
        "from sklearn.neighbors import KNeighborsClassifier\n",
        "from sklearn.linear_model import LogisticRegression\n",
        "from sklearn.svm import SVC\n",
        "from sklearn.ensemble import RandomForestClassifier\n",
        "from sklearn.ensemble import GradientBoostingClassifier\n",
        "from xgboost import XGBClassifier\n",
        "\n",
        "#------\n",
        "def create_models(seed=2):\n",
        "    '''\n",
        "    Criar uma lista de modelos de ML.\n",
        "\n",
        "            Parameters:\n",
        "                    seed (integer): random seed of the models\n",
        "\n",
        "            Returns:\n",
        "                    models (list): list containing the models\n",
        "    '''\n",
        "\n",
        "    models = []\n",
        "    models.append(('Dummy Classifier', DummyClassifier(random_state=seed, strategy='most_frequent')))\n",
        "    models.append(('KNN: ', KNeighborsClassifier()))\n",
        "    models.append(('Logistic Regression', LogisticRegression()))\n",
        "    models.append(('SVM', SVC(random_state=seed)))\n",
        "    models.append(('Random Forest', RandomForestClassifier(random_state=seed)))\n",
        "    models.append(('Gradient Boosting', GradientBoostingClassifier(random_state=seed)))\n",
        "    models.append(('XGBClassifier', XGBClassifier(random_state=seed)))\n",
        "    \n",
        "    return models\n",
        "\n",
        "# Criar uma lista com todos os algoritmos que serão avaliados\n",
        "models = create_models()"
      ],
      "metadata": {
        "id": "bQym_f7sV9Lf"
      },
      "execution_count": 37,
      "outputs": []
    },
    {
      "cell_type": "code",
      "source": [
        "# 1. Importar biblioteca necessária\n",
        "from sklearn.metrics import accuracy_score\n",
        "\n",
        "# Testar a precisão de cada modelo usando hiperparâmetros padrão\n",
        "results = []\n",
        "names = []\n",
        "scoring = 'accuracy'\n",
        "for name, model in models:\n",
        "    # Ajustar o modelo com os dados de treinamento\n",
        "    model.fit(X_train, y_train).predict(X_test)\n",
        "    # Fazer previsões com os dados de teste\n",
        "    predictions = model.predict(X_test)\n",
        "    # Calcular a acurácia\n",
        "    accuracy = accuracy_score(y_test, predictions)\n",
        "    # Anexar o nome do modelo e a precisão à lista de modelos\n",
        "    results.append(accuracy)\n",
        "    names.append(name)\n",
        "    # Printar a precisão do classificador\n",
        "    print('Classifier: {}, Accuracy: {})'.format(name, accuracy))"
      ],
      "metadata": {
        "colab": {
          "base_uri": "https://localhost:8080/"
        },
        "id": "Bg7bOtzE2IAE",
        "outputId": "20cb2e81-5600-41c0-d109-3f4049a4d2cf"
      },
      "execution_count": 38,
      "outputs": [
        {
          "output_type": "stream",
          "name": "stdout",
          "text": [
            "Classifier: Dummy Classifier, Accuracy: 0.745164960182025)\n",
            "Classifier: KNN: , Accuracy: 0.7531285551763367)\n",
            "Classifier: Logistic Regression, Accuracy: 0.7923777019340159)\n"
          ]
        },
        {
          "output_type": "stream",
          "name": "stderr",
          "text": [
            "/usr/local/lib/python3.7/dist-packages/sklearn/linear_model/_logistic.py:818: ConvergenceWarning: lbfgs failed to converge (status=1):\n",
            "STOP: TOTAL NO. of ITERATIONS REACHED LIMIT.\n",
            "\n",
            "Increase the number of iterations (max_iter) or scale the data as shown in:\n",
            "    https://scikit-learn.org/stable/modules/preprocessing.html\n",
            "Please also refer to the documentation for alternative solver options:\n",
            "    https://scikit-learn.org/stable/modules/linear_model.html#logistic-regression\n",
            "  extra_warning_msg=_LOGISTIC_SOLVER_CONVERGENCE_MSG,\n"
          ]
        },
        {
          "output_type": "stream",
          "name": "stdout",
          "text": [
            "Classifier: SVM, Accuracy: 0.7878270762229806)\n",
            "Classifier: Random Forest, Accuracy: 0.7713310580204779)\n",
            "Classifier: Gradient Boosting, Accuracy: 0.7963594994311718)\n",
            "Classifier: XGBClassifier, Accuracy: 0.7957906712172924)\n"
          ]
        }
      ]
    },
    {
      "cell_type": "markdown",
      "source": [
        "Conforme mostrado acima, todos os modelos superam o modelo ***Dummy classifier*** em termos de precisão de previsão. Portanto, podemos afirmar que o aprendizado de máquina é aplicável ao nosso problema porque observamos uma melhora em relação à baseline."
      ],
      "metadata": {
        "id": "vnHgRWU0VdPy"
      }
    },
    {
      "cell_type": "markdown",
      "source": [
        "É necessário lembrar que todos os algoritmos foram treinados utilizando os hiperparâmetros padrão. A precisão de muitos algoritmos de aprendizado de máquina é altamente sensível aos hiperparâmetros escolhidos para treinar o modelo. Neste projeto, foi availado apenas o modelo que apresenta maior precisão utilizando os hiperparâmetros padrão. Como mostrado acima, isso corresponde ao modelo ***Gradient Boosting*** que mostra uma precisão de **79.63%**.\n",
        "\n",
        "Apesar do modelo ***Gradient Boosting*** possuír uma acurácia maior, será utilizado o **XGBoost**, pois se modificarmos os hiperparâmetros, podemos alcançar uma acurácia maior.\n",
        "\n",
        "Se quiser saber um pouco mais sobre o **[XGBoost](https://www.linkedin.com/pulse/xgboost-o-m%25C3%25A9todo-de-ml-mais-utilizado-kaggle-marcelo-monier-jr-/?trackingId=jWO%2BDO67SSqKZxf6M%2BxYPQ%3D%3D)**, acesse o artigo que explico com mais detalhes sobre esse modelo.\n",
        "\n"
      ],
      "metadata": {
        "id": "WaaaGgwT_F1u"
      }
    },
    {
      "cell_type": "markdown",
      "source": [
        "## **Otimização dos Hiperparâmetros**"
      ],
      "metadata": {
        "id": "u4ITbJY2M_vy"
      }
    },
    {
      "cell_type": "markdown",
      "source": [
        "A seleção de hiperparâmetros consiste em testar o desempenho do modelo em relação a diferentes combinações de hiperparâmetros, selecionar aqueles que apresentam melhor desempenho de acordo com uma métrica escolhida e um método de validação.\n",
        "\n",
        "Para ajuste de hiperparâmetros, é necessário dividir os dados de treinamento novamente em um conjunto para treinamento e um conjunto para testar os hiperparâmetros, também chamados de validação. É uma prática muito comum utilizar validação cruzada (**k-fold**) para ajuste de hiperparâmetros. O conjunto de treinamento é dividido novamente em **k** amostras de tamanhos iguais, a primeira amostra é utilizada para teste e as k-1 amostras restantes para treinar o modelo, repetindo o processo k vezes. Então, as k métricas de avaliação (neste caso, a precisão) são calculadas para produzir um único avaliador.\n",
        "\n",
        "É importante ressaltar que o conjunto de validação é utilizado para seleção de hiperparâmetros e não para avaliação do desempenho final do nosso modelo."
      ],
      "metadata": {
        "id": "nNl_xktINSED"
      }
    },
    {
      "cell_type": "markdown",
      "source": [
        "Existem várias técnicas para encontrar os melhores hiperparâmetros para um modelo. Os métodos mais populares são (1) ***grid search***, (2) ***random search*** e (3) ***bayesian optimization***. A ***grid search*** testa todas as combinações de hiperparâmetros e seleciona a de melhor desempenho. É um método muito demorado, principalmente quando o número de hiperparâmetros e valores a serem testados é muito alto.\n",
        "\n",
        "Na ***random search***, é necessário especificar uma grade de hiperparâmetros e combinações aleatórias são selecionadas onde cada combinação de hiperparâmetros tem a mesma chance de ser amostrada. Não analisamos todas as combinações de hiperparâmetros, mas apenas amostras aleatórias dessas combinações. Essa abordagem é muito mais eficiente computacionalmente do que tentar todas as combinações. Entretanto, também tem algumas desvantagens. A principal desvantagem é que nem todas as áreas da grade são cobertas uniformemente, especialmente quando o número de combinações selecionadas da grade é baixo."
      ],
      "metadata": {
        "id": "hqZwF1uZPrcB"
      }
    },
    {
      "cell_type": "markdown",
      "source": [
        "Será implementado a ***random search*** no Scikit-learn utilizando a classe `RandomSearchCV` do `pacote sklearn.model_selection`.\n",
        "\n",
        "Primeiramente, especifica-se a grade de valores de hiperparâmetros utilizando um dicionário (`grid_parameters`) onde as chaves representam os hiperparâmetros e os valores são o conjunto de opções que queremos avaliar. Em seguida, definimos o objeto `RandomizedSearchCV` para tentar diferentes combinações aleatórias dessa grade. O número de combinações de hiperparâmetros amostradas é definido no parâmetro `n_iter`. Naturalmente, aumentar `n_iter` levará, na maioria dos casos, a resultados mais precisos, pois mais combinações são amostradas. Entretanto, em muitas ocasiões, a melhoria no desempenho não será significativa."
      ],
      "metadata": {
        "id": "iIu2JTMeQyQv"
      }
    },
    {
      "cell_type": "code",
      "source": [
        "# 1.Importar a biblioteca necessária\n",
        "from sklearn.model_selection import RandomizedSearchCV\n",
        "\n",
        "\n",
        "# 2. Definir os parâmetros da grade\n",
        "grid_parameters = {'n_estimators': range(0,1000,50)}\n",
        "\n",
        "\n",
        "# 3. Implementar a classe RandomizedSearchCV para tentar diferentes combinações de parâmetros\n",
        "random_search = RandomizedSearchCV(estimator=XGBClassifier(learning_rate=0.1),\n",
        "                                   param_distributions=grid_parameters,\n",
        "                                   cv=5,\n",
        "                                   n_iter=150,\n",
        "                                   n_jobs=-1)\n",
        "\n",
        "# 4. Ajustar o modelo para busca aleatória\n",
        "random_search.fit(X_train, y_train)\n",
        "\n",
        "# Mostrar o melhor parâmetro após o ajuste\n",
        "print(\"Melhor: {} para {}\".format(random_search.best_score_, random_search.best_params_))\n",
        "\n",
        "\n",
        "# 'min_child_weight':range(1,5,1),\n",
        "#                    'gamma':[i/10.0 for i in range(0,5)],\n",
        "#                    'learning_rate':[0.001, 0.01, 0.1, 1],\n",
        "#                    'max_depth': [3, 4, 5, 6],\n",
        "#                    'max_features': [None, 'auto', 'sqrt', 'log2'], \n",
        "#                    'min_samples_split': [2, 3, 4, 5]"
      ],
      "metadata": {
        "colab": {
          "base_uri": "https://localhost:8080/"
        },
        "id": "rQ896Hr4RbOZ",
        "outputId": "599fda21-4935-4988-f1f6-538298d27f9e"
      },
      "execution_count": 43,
      "outputs": [
        {
          "output_type": "stream",
          "name": "stderr",
          "text": [
            "/usr/local/lib/python3.7/dist-packages/sklearn/model_selection/_search.py:296: UserWarning: The total space of parameters 20 is smaller than n_iter=150. Running 20 iterations. For exhaustive searches, use GridSearchCV.\n",
            "  UserWarning,\n"
          ]
        },
        {
          "output_type": "stream",
          "name": "stdout",
          "text": [
            "Melhor: 0.8079230554781154 para {'n_estimators': 50}\n"
          ]
        }
      ]
    },
    {
      "cell_type": "code",
      "source": [
        "# 1. Definir os parâmetros da grade\n",
        "grid_parameters = {'max_depth':range(1,8,1), 'min_child_weight':range(1,5,1)}\n",
        "\n",
        "\n",
        "# 2. Implementar a classe RandomizedSearchCV para tentar diferentes combinações de parâmetros\n",
        "random_search = RandomizedSearchCV(estimator=XGBClassifier(learning_rate=0.1, n_estimators=50),\n",
        "                                   param_distributions=grid_parameters,\n",
        "                                   cv=5,\n",
        "                                   n_iter=150,\n",
        "                                   n_jobs=-1)\n",
        "\n",
        "# 3. Ajustar o modelo para busca aleatória\n",
        "random_search.fit(X_train, y_train)\n",
        "\n",
        "# Mostrar o melhor parâmetro após o ajuste\n",
        "print(\"Melhor: {} para {}\".format(random_search.best_score_, random_search.best_params_))"
      ],
      "metadata": {
        "colab": {
          "base_uri": "https://localhost:8080/"
        },
        "id": "9zXiNqTWnX5y",
        "outputId": "f0b64818-ed00-426d-bc18-93d347b3a211"
      },
      "execution_count": 44,
      "outputs": [
        {
          "output_type": "stream",
          "name": "stderr",
          "text": [
            "/usr/local/lib/python3.7/dist-packages/sklearn/model_selection/_search.py:296: UserWarning: The total space of parameters 28 is smaller than n_iter=150. Running 28 iterations. For exhaustive searches, use GridSearchCV.\n",
            "  UserWarning,\n"
          ]
        },
        {
          "output_type": "stream",
          "name": "stdout",
          "text": [
            "Melhor: 0.808681349316978 para {'min_child_weight': 3, 'max_depth': 3}\n"
          ]
        }
      ]
    },
    {
      "cell_type": "code",
      "source": [
        "# 1. Definir os parâmetros da grade\n",
        "grid_parameters = {'gamma':[i/10.0 for i in range(0,5)]}\n",
        "\n",
        "\n",
        "# 2. Implementar a classe RandomizedSearchCV para tentar diferentes combinações de parâmetros\n",
        "random_search = RandomizedSearchCV(estimator=XGBClassifier(learning_rate=0.1, n_estimators=50, min_child_weight=3, max_depth=3),\n",
        "                                   param_distributions=grid_parameters,\n",
        "                                   cv=5,\n",
        "                                   n_iter=150,\n",
        "                                   n_jobs=-1)\n",
        "\n",
        "# 3. Ajustar o modelo para busca aleatória\n",
        "random_search.fit(X_train, y_train)\n",
        "\n",
        "# Mostrar o melhor parâmetro após o ajuste\n",
        "print(\"Melhor: {} para {}\".format(random_search.best_score_, random_search.best_params_))"
      ],
      "metadata": {
        "colab": {
          "base_uri": "https://localhost:8080/"
        },
        "id": "h_l2s82VoMy3",
        "outputId": "d401049c-9662-4d51-b035-826e65683da2"
      },
      "execution_count": 45,
      "outputs": [
        {
          "output_type": "stream",
          "name": "stderr",
          "text": [
            "/usr/local/lib/python3.7/dist-packages/sklearn/model_selection/_search.py:296: UserWarning: The total space of parameters 5 is smaller than n_iter=150. Running 5 iterations. For exhaustive searches, use GridSearchCV.\n",
            "  UserWarning,\n"
          ]
        },
        {
          "output_type": "stream",
          "name": "stdout",
          "text": [
            "Melhor: 0.8088707429157262 para {'gamma': 0.2}\n"
          ]
        }
      ]
    },
    {
      "cell_type": "code",
      "source": [
        "# 1. Definir os parâmetros da grade\n",
        "grid_parameters = {'learning_rate':[0.001, 0.01, 0.1, 1]}\n",
        "\n",
        "\n",
        "# 2. Implementar a classe RandomizedSearchCV para tentar diferentes combinações de parâmetros\n",
        "random_search = RandomizedSearchCV(estimator=XGBClassifier(n_estimators=50, min_child_weight=3, max_depth=3, gamma=0.2),\n",
        "                                   param_distributions=grid_parameters,\n",
        "                                   cv=5,\n",
        "                                   n_iter=150,\n",
        "                                   n_jobs=-1)\n",
        "\n",
        "# 3. Ajustar o modelo para busca aleatória\n",
        "random_search.fit(X_train, y_train)\n",
        "\n",
        "# Mostrar o melhor parâmetro após o ajuste\n",
        "print(\"Melhor: {} para {}\".format(random_search.best_score_, random_search.best_params_))"
      ],
      "metadata": {
        "colab": {
          "base_uri": "https://localhost:8080/"
        },
        "id": "g6AKymv4oyEn",
        "outputId": "4bc19eba-4082-4a70-c903-c1333aa638a6"
      },
      "execution_count": 46,
      "outputs": [
        {
          "output_type": "stream",
          "name": "stderr",
          "text": [
            "/usr/local/lib/python3.7/dist-packages/sklearn/model_selection/_search.py:296: UserWarning: The total space of parameters 4 is smaller than n_iter=150. Running 4 iterations. For exhaustive searches, use GridSearchCV.\n",
            "  UserWarning,\n"
          ]
        },
        {
          "output_type": "stream",
          "name": "stdout",
          "text": [
            "Melhor: 0.8088707429157262 para {'learning_rate': 0.1}\n"
          ]
        }
      ]
    },
    {
      "cell_type": "markdown",
      "source": [
        "Após ajustar o grid, podemos obter os melhores hiperparâmetros utilizando `best_params_attribute`. Acima, os melhores hiperparâmetros são: \n",
        "\n",
        "* `n_estimators`: 50\n",
        "* `min_child_weight`: 3\n",
        "* `max_depth`: 3\n",
        "* `learning_rate`: 0.1\n",
        "* `gamma`: 0.2\n",
        "\n",
        "Apesar do notebook do colab insistir para utilizar o `GridSearchCV`, utilizamos essa abordagem, pois é muito mais eficiente computacionalmente do que tentar todas as combinações."
      ],
      "metadata": {
        "id": "vtgNy98BU8e8"
      }
    },
    {
      "cell_type": "markdown",
      "source": [
        "**Desempenho do modelo**\n",
        "\n",
        "A última etapa do processo de aprendizado de máquina é verificar o desempenho do modelo (melhores hiperparâmetros) utilizando a matriz de confusão e algumas métricas de avaliação."
      ],
      "metadata": {
        "id": "6Aj-9kjYV0WA"
      }
    },
    {
      "cell_type": "code",
      "source": [
        "!pip install scikit-plot -q"
      ],
      "metadata": {
        "id": "afzgoKAi2auP"
      },
      "execution_count": 52,
      "outputs": []
    },
    {
      "cell_type": "code",
      "source": [
        "# 1. Importar a biblioteca\n",
        "from sklearn.metrics import roc_auc_score, accuracy_score, f1_score, confusion_matrix, classification_report\n",
        "from scikitplot.metrics import plot_confusion_matrix, plot_roc\n",
        "\n",
        "# modelo final\n",
        "xgb = XGBClassifier(learning_rate=0.1, n_estimators=50, min_child_weight=3, max_depth=3, gamma=0.2)\n",
        "xgb.fit(X_train, y_train)\n",
        "\n",
        "# make the predictions\n",
        "random_search_predictions = xgb.predict(X_test)\n",
        "\n",
        "# construct the confusion matrix\n",
        "confusion_matrix = confusion_matrix(y_test, random_search_predictions)\n",
        "\n",
        "# print classification report \n",
        "print(classification_report(y_test, random_search_predictions))\n",
        "\n",
        "# imprimir a área sob a curva\n",
        "print(\"AUC: {:.4f}\\n\".format(roc_auc_score(y_test, random_search_predictions)))\n",
        "\n",
        "# visualize the confusion matrix\n",
        "plot_confusion_matrix(y_test, random_search_predictions, normalize=True)\n",
        "plt.show()"
      ],
      "metadata": {
        "colab": {
          "base_uri": "https://localhost:8080/",
          "height": 486
        },
        "id": "zqxoI5Gc0wBf",
        "outputId": "83bb14a6-ceea-4f6f-eba5-4326c2042c98"
      },
      "execution_count": 53,
      "outputs": [
        {
          "output_type": "stream",
          "name": "stdout",
          "text": [
            "              precision    recall  f1-score   support\n",
            "\n",
            "           0       0.85      0.88      0.87      1310\n",
            "           1       0.61      0.55      0.58       448\n",
            "\n",
            "    accuracy                           0.80      1758\n",
            "   macro avg       0.73      0.72      0.72      1758\n",
            "weighted avg       0.79      0.80      0.79      1758\n",
            "\n",
            "AUC: 0.7165\n",
            "\n"
          ]
        },
        {
          "output_type": "display_data",
          "data": {
            "text/plain": [
              "<Figure size 432x288 with 2 Axes>"
            ],
            "image/png": "[encoded data removed]"
          },
          "metadata": {
            "needs_background": "light"
          }
        }
      ]
    },
    {
      "cell_type": "markdown",
      "source": [
        "# **Conclusão**"
      ],
      "metadata": {
        "id": "McKUjyaz21xE"
      }
    },
    {
      "cell_type": "markdown",
      "source": [
        "O setor de telecomunicações passou por grandes mudanças nos últimos anos. Como resultado de ser uma indústria em crescimento, tornou-se agora um mercado competitivo. Devido ao aumento das opções de serviços neste setor, os clientes tendem a alternar entre esses serviços. Assim, para reter seus clientes, a indústria exige uma maneira de entender e prever o padrão de churn do cliente, o que pode ser feito usando modelagem de churn. A pesquisa em comento foi focada na implementação de algumas dessas técnicas: **Dummy Classifier, Logistic Regression, Random Forest, SVM, Extreme Gradient Boosting (XGBoost), Gradient Boosting e K-nearest neighbors (KNN)**.\n",
        "\n",
        "O conjunto de dados utilizado foi focado em um programa de retenção de clientes que incluiu vários campos de atributos de clientes e também uma coluna de rotatividade de clientes. Realizamos etapas de pré-processamento neste conjunto de dados e o mesmo foi utilizado como dado de entrada para implementação de todas as técnicas. Foi feita uma comparação entre todas as técnicas mencionadas para classificar se um cliente irá churn ou não. A eficiência desses modelos foi explorada ainda mais passando-os por uma busca em grade. Portanto, concluiu-se que o modelo **XGBoost** funciona melhor para este caso de uso específico. Também foi utilizado a técnica ***random search*** para otimizar os hiperparâmetros. Por meio desta pesquisa, pode-se fazer uma inferência relevante sobre a eficácia de modelos mais antigos, porém mais leves, na previsão do churn de clientes."
      ],
      "metadata": {
        "id": "N-I4i_xj2439"
      }
    },
    {
      "cell_type": "markdown",
      "source": [
        "$Entropia^1$- A entropia é uma grandeza termodinâmica associada à irreversibilidade dos estados de um sistema físico. É comumente associada ao grau de “desordem” ou “aleatoriedade” de um sistema."
      ],
      "metadata": {
        "id": "GHyg7aEa-x-A"
      }
    },
    {
      "cell_type": "markdown",
      "source": [
        "# **Referências**"
      ],
      "metadata": {
        "id": "DuVlIwO4XqdS"
      }
    },
    {
      "cell_type": "markdown",
      "source": [
        "[1] Michael C. Mozer, Richard Wolniewicz, David B. Grimes,“Predicting Subscriber Dissatisfaction and Improving Retention in the Wireless Telecommunications Industry,” IEEE Transactions On Neural Networks, Vol. 11, pp. 690-696, September 2000. \n",
        "\n",
        "<br>\n",
        "\n",
        "[2] Wai-Ho Au , K. C.C. Chan , Xin Yao, “A novel evolutionary data\n",
        "mining algorithm with applications to churn prediction,” IEEE\n",
        "Transactions on Evolutionary Computation, Vol. 7 (6) pp. 532-545,\n",
        "December 2003.\n",
        "\n",
        "</br>\n",
        "\n",
        "[3] N. Kamalraj, A.Malathi,“Applying Data Mining Techniques in Telecom\n",
        "Churn Prediction, ” in proc. International Journal of Advanced Research\n",
        "in Computer Science and Software Engineering, 10, October 2013.\n",
        "\n",
        "</br>\n",
        "\n",
        "[4] Chuanqi Wang, Ruiqi Li, Peng Wang, Zonghai Chen,“Partition costsensitive CART based on customer value for Telecom customer Churn Prediction, Control Conference (CCC), September 2017.\n",
        "\n",
        "</br>\n",
        "\n",
        "\n",
        "[5] Adnan Idris, Asifullah Khan,“Ensemble based Efficient Churn Prediction Model for Telecom”, Frontiers of Information Technology (FIT), International Conference, pp.5680-5684,June 2015."
      ],
      "metadata": {
        "id": "iXJeSZkiX09n"
      }
    }
  ]
}